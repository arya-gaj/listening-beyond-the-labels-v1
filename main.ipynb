{
  "cells": [
    {
      "cell_type": "markdown",
      "source": [
        "Step 1: Import file handling libraries"
      ],
      "metadata": {
        "id": "VMQIGP0yVK0d"
      }
    },
    {
      "cell_type": "code",
      "source": [
        "from google.colab import files\n",
        "import os\n",
        "import shutil"
      ],
      "metadata": {
        "id": "3WI5b7S3ID-e"
      },
      "execution_count": null,
      "outputs": []
    },
    {
      "cell_type": "markdown",
      "source": [
        "Step 2: Import audio processing libraries"
      ],
      "metadata": {
        "id": "8NcGZnm5qmpO"
      }
    },
    {
      "cell_type": "code",
      "source": [
        "from pydub import AudioSegment\n",
        "import librosa\n",
        "import soundfile as sf"
      ],
      "metadata": {
        "id": "JGZ_GffNqUHr"
      },
      "execution_count": null,
      "outputs": []
    },
    {
      "cell_type": "markdown",
      "source": [
        "Step 3: Import concurrency and progress tracking tools"
      ],
      "metadata": {
        "id": "L4Vc4fgUqpXI"
      }
    },
    {
      "cell_type": "code",
      "source": [
        "from concurrent.futures import ThreadPoolExecutor\n",
        "from tqdm import tqdm"
      ],
      "metadata": {
        "id": "EBpuGdVSqWO5"
      },
      "execution_count": null,
      "outputs": []
    },
    {
      "cell_type": "markdown",
      "source": [
        "Step 4: Import numerical and plotting libraries"
      ],
      "metadata": {
        "id": "a3MOLW5_rIwQ"
      }
    },
    {
      "cell_type": "code",
      "source": [
        "import numpy as np\n",
        "import matplotlib.pyplot as plt"
      ],
      "metadata": {
        "id": "Ld5iYpq8qYTC"
      },
      "execution_count": null,
      "outputs": []
    },
    {
      "cell_type": "markdown",
      "source": [
        "Step 5: Import machine learning libraries"
      ],
      "metadata": {
        "id": "hUFjqODjrKqZ"
      }
    },
    {
      "cell_type": "code",
      "source": [
        "import tensorflow as tf\n",
        "from tensorflow.keras import layers, models\n",
        "from tensorflow.keras.callbacks import EarlyStopping, ReduceLROnPlateau\n",
        "from sklearn.model_selection import train_test_split"
      ],
      "metadata": {
        "id": "gWRK85g7qZ4Z"
      },
      "execution_count": null,
      "outputs": []
    },
    {
      "cell_type": "markdown",
      "source": [
        "Step 6: Upload files from your local system"
      ],
      "metadata": {
        "id": "EzLQT1frVMlj"
      }
    },
    {
      "cell_type": "code",
      "source": [
        "files.upload()"
      ],
      "metadata": {
        "id": "Cky9ScTCK6ID",
        "colab": {
          "base_uri": "https://localhost:8080/",
          "height": 90
        },
        "outputId": "3de06180-07da-4ebc-a6cf-fcf8e6917456"
      },
      "execution_count": null,
      "outputs": [
        {
          "output_type": "display_data",
          "data": {
            "text/plain": [
              "<IPython.core.display.HTML object>"
            ],
            "text/html": [
              "\n",
              "     <input type=\"file\" id=\"files-9b9afd96-9181-4b8d-a39b-24652984a999\" name=\"files[]\" multiple disabled\n",
              "        style=\"border:none\" />\n",
              "     <output id=\"result-9b9afd96-9181-4b8d-a39b-24652984a999\">\n",
              "      Upload widget is only available when the cell has been executed in the\n",
              "      current browser session. Please rerun this cell to enable.\n",
              "      </output>\n",
              "      <script>// Copyright 2017 Google LLC\n",
              "//\n",
              "// Licensed under the Apache License, Version 2.0 (the \"License\");\n",
              "// you may not use this file except in compliance with the License.\n",
              "// You may obtain a copy of the License at\n",
              "//\n",
              "//      http://www.apache.org/licenses/LICENSE-2.0\n",
              "//\n",
              "// Unless required by applicable law or agreed to in writing, software\n",
              "// distributed under the License is distributed on an \"AS IS\" BASIS,\n",
              "// WITHOUT WARRANTIES OR CONDITIONS OF ANY KIND, either express or implied.\n",
              "// See the License for the specific language governing permissions and\n",
              "// limitations under the License.\n",
              "\n",
              "/**\n",
              " * @fileoverview Helpers for google.colab Python module.\n",
              " */\n",
              "(function(scope) {\n",
              "function span(text, styleAttributes = {}) {\n",
              "  const element = document.createElement('span');\n",
              "  element.textContent = text;\n",
              "  for (const key of Object.keys(styleAttributes)) {\n",
              "    element.style[key] = styleAttributes[key];\n",
              "  }\n",
              "  return element;\n",
              "}\n",
              "\n",
              "// Max number of bytes which will be uploaded at a time.\n",
              "const MAX_PAYLOAD_SIZE = 100 * 1024;\n",
              "\n",
              "function _uploadFiles(inputId, outputId) {\n",
              "  const steps = uploadFilesStep(inputId, outputId);\n",
              "  const outputElement = document.getElementById(outputId);\n",
              "  // Cache steps on the outputElement to make it available for the next call\n",
              "  // to uploadFilesContinue from Python.\n",
              "  outputElement.steps = steps;\n",
              "\n",
              "  return _uploadFilesContinue(outputId);\n",
              "}\n",
              "\n",
              "// This is roughly an async generator (not supported in the browser yet),\n",
              "// where there are multiple asynchronous steps and the Python side is going\n",
              "// to poll for completion of each step.\n",
              "// This uses a Promise to block the python side on completion of each step,\n",
              "// then passes the result of the previous step as the input to the next step.\n",
              "function _uploadFilesContinue(outputId) {\n",
              "  const outputElement = document.getElementById(outputId);\n",
              "  const steps = outputElement.steps;\n",
              "\n",
              "  const next = steps.next(outputElement.lastPromiseValue);\n",
              "  return Promise.resolve(next.value.promise).then((value) => {\n",
              "    // Cache the last promise value to make it available to the next\n",
              "    // step of the generator.\n",
              "    outputElement.lastPromiseValue = value;\n",
              "    return next.value.response;\n",
              "  });\n",
              "}\n",
              "\n",
              "/**\n",
              " * Generator function which is called between each async step of the upload\n",
              " * process.\n",
              " * @param {string} inputId Element ID of the input file picker element.\n",
              " * @param {string} outputId Element ID of the output display.\n",
              " * @return {!Iterable<!Object>} Iterable of next steps.\n",
              " */\n",
              "function* uploadFilesStep(inputId, outputId) {\n",
              "  const inputElement = document.getElementById(inputId);\n",
              "  inputElement.disabled = false;\n",
              "\n",
              "  const outputElement = document.getElementById(outputId);\n",
              "  outputElement.innerHTML = '';\n",
              "\n",
              "  const pickedPromise = new Promise((resolve) => {\n",
              "    inputElement.addEventListener('change', (e) => {\n",
              "      resolve(e.target.files);\n",
              "    });\n",
              "  });\n",
              "\n",
              "  const cancel = document.createElement('button');\n",
              "  inputElement.parentElement.appendChild(cancel);\n",
              "  cancel.textContent = 'Cancel upload';\n",
              "  const cancelPromise = new Promise((resolve) => {\n",
              "    cancel.onclick = () => {\n",
              "      resolve(null);\n",
              "    };\n",
              "  });\n",
              "\n",
              "  // Wait for the user to pick the files.\n",
              "  const files = yield {\n",
              "    promise: Promise.race([pickedPromise, cancelPromise]),\n",
              "    response: {\n",
              "      action: 'starting',\n",
              "    }\n",
              "  };\n",
              "\n",
              "  cancel.remove();\n",
              "\n",
              "  // Disable the input element since further picks are not allowed.\n",
              "  inputElement.disabled = true;\n",
              "\n",
              "  if (!files) {\n",
              "    return {\n",
              "      response: {\n",
              "        action: 'complete',\n",
              "      }\n",
              "    };\n",
              "  }\n",
              "\n",
              "  for (const file of files) {\n",
              "    const li = document.createElement('li');\n",
              "    li.append(span(file.name, {fontWeight: 'bold'}));\n",
              "    li.append(span(\n",
              "        `(${file.type || 'n/a'}) - ${file.size} bytes, ` +\n",
              "        `last modified: ${\n",
              "            file.lastModifiedDate ? file.lastModifiedDate.toLocaleDateString() :\n",
              "                                    'n/a'} - `));\n",
              "    const percent = span('0% done');\n",
              "    li.appendChild(percent);\n",
              "\n",
              "    outputElement.appendChild(li);\n",
              "\n",
              "    const fileDataPromise = new Promise((resolve) => {\n",
              "      const reader = new FileReader();\n",
              "      reader.onload = (e) => {\n",
              "        resolve(e.target.result);\n",
              "      };\n",
              "      reader.readAsArrayBuffer(file);\n",
              "    });\n",
              "    // Wait for the data to be ready.\n",
              "    let fileData = yield {\n",
              "      promise: fileDataPromise,\n",
              "      response: {\n",
              "        action: 'continue',\n",
              "      }\n",
              "    };\n",
              "\n",
              "    // Use a chunked sending to avoid message size limits. See b/62115660.\n",
              "    let position = 0;\n",
              "    do {\n",
              "      const length = Math.min(fileData.byteLength - position, MAX_PAYLOAD_SIZE);\n",
              "      const chunk = new Uint8Array(fileData, position, length);\n",
              "      position += length;\n",
              "\n",
              "      const base64 = btoa(String.fromCharCode.apply(null, chunk));\n",
              "      yield {\n",
              "        response: {\n",
              "          action: 'append',\n",
              "          file: file.name,\n",
              "          data: base64,\n",
              "        },\n",
              "      };\n",
              "\n",
              "      let percentDone = fileData.byteLength === 0 ?\n",
              "          100 :\n",
              "          Math.round((position / fileData.byteLength) * 100);\n",
              "      percent.textContent = `${percentDone}% done`;\n",
              "\n",
              "    } while (position < fileData.byteLength);\n",
              "  }\n",
              "\n",
              "  // All done.\n",
              "  yield {\n",
              "    response: {\n",
              "      action: 'complete',\n",
              "    }\n",
              "  };\n",
              "}\n",
              "\n",
              "scope.google = scope.google || {};\n",
              "scope.google.colab = scope.google.colab || {};\n",
              "scope.google.colab._files = {\n",
              "  _uploadFiles,\n",
              "  _uploadFilesContinue,\n",
              "};\n",
              "})(self);\n",
              "</script> "
            ]
          },
          "metadata": {}
        },
        {
          "output_type": "stream",
          "name": "stdout",
          "text": [
            "Saving kaggle.json to kaggle.json\n"
          ]
        },
        {
          "output_type": "execute_result",
          "data": {
            "text/plain": [
              "{'kaggle.json': b'{\"username\":\"aryamang2004\",\"key\":\"6ac506b243e65835dd221996b83cce54\"}'}"
            ]
          },
          "metadata": {},
          "execution_count": 2
        }
      ]
    },
    {
      "cell_type": "markdown",
      "source": [
        "Step 7: Set up Kaggle API credentials"
      ],
      "metadata": {
        "id": "D2_AWSVDVTjF"
      }
    },
    {
      "cell_type": "code",
      "source": [
        "os.makedirs('/root/.kaggle', exist_ok=True)\n",
        "shutil.move('kaggle.json', '/root/.kaggle/kaggle.json')\n",
        "os.chmod('/root/.kaggle/kaggle.json', 600)"
      ],
      "metadata": {
        "id": "tOHp6gHT0Lmx"
      },
      "execution_count": null,
      "outputs": []
    },
    {
      "cell_type": "markdown",
      "source": [
        "Step 8: Download datasets from Kaggle"
      ],
      "metadata": {
        "id": "o4GPT76cVZqL"
      }
    },
    {
      "cell_type": "code",
      "source": [
        "!kaggle datasets download -d aryamang2004/labeled-dementia\n",
        "!kaggle datasets download -d aryamang2004/labeled-control\n",
        "!kaggle datasets download -d aryamang2004/unlabeled"
      ],
      "metadata": {
        "colab": {
          "base_uri": "https://localhost:8080/"
        },
        "id": "yC-jdP370Qn_",
        "outputId": "77721f89-a16f-44b2-c51c-5c7041d38ae4"
      },
      "execution_count": null,
      "outputs": [
        {
          "output_type": "stream",
          "name": "stdout",
          "text": [
            "Dataset URL: https://www.kaggle.com/datasets/aryamang2004/labeled-dementia\n",
            "License(s): unknown\n",
            "Dataset URL: https://www.kaggle.com/datasets/aryamang2004/labeled-control\n",
            "License(s): unknown\n",
            "Dataset URL: https://www.kaggle.com/datasets/aryamang2004/unlabeled\n",
            "License(s): unknown\n"
          ]
        }
      ]
    },
    {
      "cell_type": "markdown",
      "source": [
        "Step 9: Create directories to store datasets"
      ],
      "metadata": {
        "id": "OyHS6N9DVguL"
      }
    },
    {
      "cell_type": "code",
      "source": [
        "!mkdir -p data/labeled-dementia\n",
        "!mkdir -p data/labeled-control\n",
        "!mkdir -p data/unlabeled"
      ],
      "metadata": {
        "id": "Cb3tEgU70UHU"
      },
      "execution_count": null,
      "outputs": []
    },
    {
      "cell_type": "markdown",
      "source": [
        "Step 10: Unzip the downloaded dataset files"
      ],
      "metadata": {
        "id": "rwBrDwZHa52V"
      }
    },
    {
      "cell_type": "code",
      "source": [
        "!unzip labeled-dementia.zip -d data/labeled-dementia\n",
        "!unzip labeled-control.zip -d data/labeled-control\n",
        "!unzip unlabeled.zip -d data/unlabeled"
      ],
      "metadata": {
        "colab": {
          "base_uri": "https://localhost:8080/"
        },
        "id": "3Hv1TMWi0Xv8",
        "outputId": "9afd44dd-a6cb-4987-9ca5-4ea1e8c2ac86"
      },
      "execution_count": null,
      "outputs": [
        {
          "output_type": "stream",
          "name": "stdout",
          "text": [
            "Archive:  labeled-dementia.zip\n",
            "  inflating: data/labeled-dementia/Labeled (Dementia)/001-0.mp3  \n",
            "  inflating: data/labeled-dementia/Labeled (Dementia)/001-2.mp3  \n",
            "  inflating: data/labeled-dementia/Labeled (Dementia)/003-0.mp3  \n",
            "  inflating: data/labeled-dementia/Labeled (Dementia)/005-0.mp3  \n",
            "  inflating: data/labeled-dementia/Labeled (Dementia)/005-2.mp3  \n",
            "  inflating: data/labeled-dementia/Labeled (Dementia)/007-1.mp3  \n",
            "  inflating: data/labeled-dementia/Labeled (Dementia)/007-3.mp3  \n",
            "  inflating: data/labeled-dementia/Labeled (Dementia)/010-0.mp3  \n",
            "  inflating: data/labeled-dementia/Labeled (Dementia)/010-1.mp3  \n",
            "  inflating: data/labeled-dementia/Labeled (Dementia)/010-2.mp3  \n",
            "  inflating: data/labeled-dementia/Labeled (Dementia)/010-3.mp3  \n",
            "  inflating: data/labeled-dementia/Labeled (Dementia)/010-4.mp3  \n",
            "  inflating: data/labeled-dementia/Labeled (Dementia)/014-2.mp3  \n",
            "  inflating: data/labeled-dementia/Labeled (Dementia)/016-0.mp3  \n",
            "  inflating: data/labeled-dementia/Labeled (Dementia)/016-1.mp3  \n",
            "  inflating: data/labeled-dementia/Labeled (Dementia)/016-3.mp3  \n",
            "  inflating: data/labeled-dementia/Labeled (Dementia)/016-4.mp3  \n",
            "  inflating: data/labeled-dementia/Labeled (Dementia)/018-0.mp3  \n",
            "  inflating: data/labeled-dementia/Labeled (Dementia)/023-0.mp3  \n",
            "  inflating: data/labeled-dementia/Labeled (Dementia)/023-2.mp3  \n",
            "  inflating: data/labeled-dementia/Labeled (Dementia)/024-1.mp3  \n",
            "  inflating: data/labeled-dementia/Labeled (Dementia)/024-2.mp3  \n",
            "  inflating: data/labeled-dementia/Labeled (Dementia)/029-0.mp3  \n",
            "  inflating: data/labeled-dementia/Labeled (Dementia)/029-1.mp3  \n",
            "  inflating: data/labeled-dementia/Labeled (Dementia)/030-0.mp3  \n",
            "  inflating: data/labeled-dementia/Labeled (Dementia)/030-1.mp3  \n",
            "  inflating: data/labeled-dementia/Labeled (Dementia)/033-0.mp3  \n",
            "  inflating: data/labeled-dementia/Labeled (Dementia)/033-1.mp3  \n",
            "  inflating: data/labeled-dementia/Labeled (Dementia)/033-2.mp3  \n",
            "  inflating: data/labeled-dementia/Labeled (Dementia)/033-3.mp3  \n",
            "  inflating: data/labeled-dementia/Labeled (Dementia)/033-4.mp3  \n",
            "  inflating: data/labeled-dementia/Labeled (Dementia)/035-0.mp3  \n",
            "  inflating: data/labeled-dementia/Labeled (Dementia)/035-1.mp3  \n",
            "  inflating: data/labeled-dementia/Labeled (Dementia)/039-0.mp3  \n",
            "  inflating: data/labeled-dementia/Labeled (Dementia)/043-0.mp3  \n",
            "  inflating: data/labeled-dementia/Labeled (Dementia)/046-0.mp3  \n",
            "  inflating: data/labeled-dementia/Labeled (Dementia)/046-2.mp3  \n",
            "  inflating: data/labeled-dementia/Labeled (Dementia)/049-0.mp3  \n",
            "  inflating: data/labeled-dementia/Labeled (Dementia)/049-1.mp3  \n",
            "  inflating: data/labeled-dementia/Labeled (Dementia)/050-0.mp3  \n",
            "  inflating: data/labeled-dementia/Labeled (Dementia)/051-0.mp3  \n",
            "  inflating: data/labeled-dementia/Labeled (Dementia)/051-1.mp3  \n",
            "  inflating: data/labeled-dementia/Labeled (Dementia)/051-2.mp3  \n",
            "  inflating: data/labeled-dementia/Labeled (Dementia)/051-3.mp3  \n",
            "  inflating: data/labeled-dementia/Labeled (Dementia)/053-1.mp3  \n",
            "  inflating: data/labeled-dementia/Labeled (Dementia)/057-0.mp3  \n",
            "  inflating: data/labeled-dementia/Labeled (Dementia)/057-1.mp3  \n",
            "  inflating: data/labeled-dementia/Labeled (Dementia)/057-2.mp3  \n",
            "  inflating: data/labeled-dementia/Labeled (Dementia)/058-0.mp3  \n",
            "  inflating: data/labeled-dementia/Labeled (Dementia)/058-1.mp3  \n",
            "  inflating: data/labeled-dementia/Labeled (Dementia)/058-3.mp3  \n",
            "  inflating: data/labeled-dementia/Labeled (Dementia)/058-4.mp3  \n",
            "  inflating: data/labeled-dementia/Labeled (Dementia)/061-0.mp3  \n",
            "  inflating: data/labeled-dementia/Labeled (Dementia)/061-1.mp3  \n",
            "  inflating: data/labeled-dementia/Labeled (Dementia)/062-0.mp3  \n",
            "  inflating: data/labeled-dementia/Labeled (Dementia)/062-3.mp3  \n",
            "  inflating: data/labeled-dementia/Labeled (Dementia)/065-0.mp3  \n",
            "  inflating: data/labeled-dementia/Labeled (Dementia)/065-1.mp3  \n",
            "  inflating: data/labeled-dementia/Labeled (Dementia)/065-2.mp3  \n",
            "  inflating: data/labeled-dementia/Labeled (Dementia)/066-0.mp3  \n",
            "  inflating: data/labeled-dementia/Labeled (Dementia)/067-1.mp3  \n",
            "  inflating: data/labeled-dementia/Labeled (Dementia)/067-2.mp3  \n",
            "  inflating: data/labeled-dementia/Labeled (Dementia)/070-2.mp3  \n",
            "  inflating: data/labeled-dementia/Labeled (Dementia)/076-0.mp3  \n",
            "  inflating: data/labeled-dementia/Labeled (Dementia)/076-2.mp3  \n",
            "  inflating: data/labeled-dementia/Labeled (Dementia)/076-4.mp3  \n",
            "  inflating: data/labeled-dementia/Labeled (Dementia)/078-0.mp3  \n",
            "  inflating: data/labeled-dementia/Labeled (Dementia)/078-1.mp3  \n",
            "  inflating: data/labeled-dementia/Labeled (Dementia)/087-1.mp3  \n",
            "  inflating: data/labeled-dementia/Labeled (Dementia)/089-0.mp3  \n",
            "  inflating: data/labeled-dementia/Labeled (Dementia)/091-0.mp3  \n",
            "  inflating: data/labeled-dementia/Labeled (Dementia)/091-1.mp3  \n",
            "  inflating: data/labeled-dementia/Labeled (Dementia)/091-2.mp3  \n",
            "  inflating: data/labeled-dementia/Labeled (Dementia)/094-1.mp3  \n",
            "  inflating: data/labeled-dementia/Labeled (Dementia)/094-2.mp3  \n",
            "  inflating: data/labeled-dementia/Labeled (Dementia)/094-3.mp3  \n",
            "  inflating: data/labeled-dementia/Labeled (Dementia)/097-1.mp3  \n",
            "  inflating: data/labeled-dementia/Labeled (Dementia)/120-0.mp3  \n",
            "  inflating: data/labeled-dementia/Labeled (Dementia)/120-1.mp3  \n",
            "  inflating: data/labeled-dementia/Labeled (Dementia)/120-2.mp3  \n",
            "  inflating: data/labeled-dementia/Labeled (Dementia)/120-3.mp3  \n",
            "  inflating: data/labeled-dementia/Labeled (Dementia)/120-4.mp3  \n",
            "  inflating: data/labeled-dementia/Labeled (Dementia)/122-0.mp3  \n",
            "  inflating: data/labeled-dementia/Labeled (Dementia)/122-1.mp3  \n",
            "  inflating: data/labeled-dementia/Labeled (Dementia)/125-0.mp3  \n",
            "  inflating: data/labeled-dementia/Labeled (Dementia)/127-0.mp3  \n",
            "  inflating: data/labeled-dementia/Labeled (Dementia)/134-0.mp3  \n",
            "  inflating: data/labeled-dementia/Labeled (Dementia)/134-1.mp3  \n",
            "  inflating: data/labeled-dementia/Labeled (Dementia)/134-2.mp3  \n",
            "  inflating: data/labeled-dementia/Labeled (Dementia)/134-3.mp3  \n",
            "  inflating: data/labeled-dementia/Labeled (Dementia)/144-0.mp3  \n",
            "  inflating: data/labeled-dementia/Labeled (Dementia)/144-1.mp3  \n",
            "  inflating: data/labeled-dementia/Labeled (Dementia)/148-0.mp3  \n",
            "  inflating: data/labeled-dementia/Labeled (Dementia)/154-0.mp3  \n",
            "  inflating: data/labeled-dementia/Labeled (Dementia)/154-1.mp3  \n",
            "  inflating: data/labeled-dementia/Labeled (Dementia)/157-0.mp3  \n",
            "  inflating: data/labeled-dementia/Labeled (Dementia)/157-1.mp3  \n",
            "  inflating: data/labeled-dementia/Labeled (Dementia)/157-2.mp3  \n",
            "  inflating: data/labeled-dementia/Labeled (Dementia)/164-1.mp3  \n",
            "  inflating: data/labeled-dementia/Labeled (Dementia)/164-2.mp3  \n",
            "Archive:  labeled-control.zip\n",
            "  inflating: data/labeled-control/Labeled (Control)/002-0.mp3  \n",
            "  inflating: data/labeled-control/Labeled (Control)/002-1.mp3  \n",
            "  inflating: data/labeled-control/Labeled (Control)/002-2.mp3  \n",
            "  inflating: data/labeled-control/Labeled (Control)/002-3.mp3  \n",
            "  inflating: data/labeled-control/Labeled (Control)/006-2.mp3  \n",
            "  inflating: data/labeled-control/Labeled (Control)/006-3.mp3  \n",
            "  inflating: data/labeled-control/Labeled (Control)/006-4.mp3  \n",
            "  inflating: data/labeled-control/Labeled (Control)/013-0.mp3  \n",
            "  inflating: data/labeled-control/Labeled (Control)/013-2.mp3  \n",
            "  inflating: data/labeled-control/Labeled (Control)/013-3.mp3  \n",
            "  inflating: data/labeled-control/Labeled (Control)/013-4.mp3  \n",
            "  inflating: data/labeled-control/Labeled (Control)/015-0.mp3  \n",
            "  inflating: data/labeled-control/Labeled (Control)/015-1.mp3  \n",
            "  inflating: data/labeled-control/Labeled (Control)/015-2.mp3  \n",
            "  inflating: data/labeled-control/Labeled (Control)/015-3.mp3  \n",
            "  inflating: data/labeled-control/Labeled (Control)/015-4.mp3  \n",
            "  inflating: data/labeled-control/Labeled (Control)/017-4.mp3  \n",
            "  inflating: data/labeled-control/Labeled (Control)/021-0.mp3  \n",
            "  inflating: data/labeled-control/Labeled (Control)/021-1.mp3  \n",
            "  inflating: data/labeled-control/Labeled (Control)/021-2.mp3  \n",
            "  inflating: data/labeled-control/Labeled (Control)/021-3.mp3  \n",
            "  inflating: data/labeled-control/Labeled (Control)/021-4.mp3  \n",
            "  inflating: data/labeled-control/Labeled (Control)/022-0.mp3  \n",
            "  inflating: data/labeled-control/Labeled (Control)/022-1.mp3  \n",
            "  inflating: data/labeled-control/Labeled (Control)/022-2.mp3  \n",
            "  inflating: data/labeled-control/Labeled (Control)/028-1.mp3  \n",
            "  inflating: data/labeled-control/Labeled (Control)/028-4.mp3  \n",
            "  inflating: data/labeled-control/Labeled (Control)/034-0.mp3  \n",
            "  inflating: data/labeled-control/Labeled (Control)/034-1.mp3  \n",
            "  inflating: data/labeled-control/Labeled (Control)/034-2.mp3  \n",
            "  inflating: data/labeled-control/Labeled (Control)/034-3.mp3  \n",
            "  inflating: data/labeled-control/Labeled (Control)/034-4.mp3  \n",
            "  inflating: data/labeled-control/Labeled (Control)/042-1.mp3  \n",
            "  inflating: data/labeled-control/Labeled (Control)/042-2.mp3  \n",
            "  inflating: data/labeled-control/Labeled (Control)/042-3.mp3  \n",
            "  inflating: data/labeled-control/Labeled (Control)/042-4.mp3  \n",
            "  inflating: data/labeled-control/Labeled (Control)/045-0.mp3  \n",
            "  inflating: data/labeled-control/Labeled (Control)/045-2.mp3  \n",
            "  inflating: data/labeled-control/Labeled (Control)/045-3.mp3  \n",
            "  inflating: data/labeled-control/Labeled (Control)/052-0.mp3  \n",
            "  inflating: data/labeled-control/Labeled (Control)/052-2.mp3  \n",
            "  inflating: data/labeled-control/Labeled (Control)/054-0.mp3  \n",
            "  inflating: data/labeled-control/Labeled (Control)/055-0.mp3  \n",
            "  inflating: data/labeled-control/Labeled (Control)/056-0.mp3  \n",
            "  inflating: data/labeled-control/Labeled (Control)/056-3.mp3  \n",
            "  inflating: data/labeled-control/Labeled (Control)/056-4.mp3  \n",
            "  inflating: data/labeled-control/Labeled (Control)/059-2.mp3  \n",
            "  inflating: data/labeled-control/Labeled (Control)/059-3.mp3  \n",
            "  inflating: data/labeled-control/Labeled (Control)/059-4.mp3  \n",
            "  inflating: data/labeled-control/Labeled (Control)/068-0.mp3  \n",
            "  inflating: data/labeled-control/Labeled (Control)/068-2.mp3  \n",
            "  inflating: data/labeled-control/Labeled (Control)/068-3.mp3  \n",
            "  inflating: data/labeled-control/Labeled (Control)/071-0.mp3  \n",
            "  inflating: data/labeled-control/Labeled (Control)/071-1.mp3  \n",
            "  inflating: data/labeled-control/Labeled (Control)/071-2.mp3  \n",
            "  inflating: data/labeled-control/Labeled (Control)/071-3.mp3  \n",
            "  inflating: data/labeled-control/Labeled (Control)/071-4.mp3  \n",
            "  inflating: data/labeled-control/Labeled (Control)/073-0.mp3  \n",
            "  inflating: data/labeled-control/Labeled (Control)/073-1.mp3  \n",
            "  inflating: data/labeled-control/Labeled (Control)/086-0.mp3  \n",
            "  inflating: data/labeled-control/Labeled (Control)/086-1.mp3  \n",
            "  inflating: data/labeled-control/Labeled (Control)/086-2.mp3  \n",
            "  inflating: data/labeled-control/Labeled (Control)/086-3.mp3  \n",
            "  inflating: data/labeled-control/Labeled (Control)/092-0.mp3  \n",
            "  inflating: data/labeled-control/Labeled (Control)/092-1.mp3  \n",
            "  inflating: data/labeled-control/Labeled (Control)/092-2.mp3  \n",
            "  inflating: data/labeled-control/Labeled (Control)/092-3.mp3  \n",
            "  inflating: data/labeled-control/Labeled (Control)/093-0.mp3  \n",
            "  inflating: data/labeled-control/Labeled (Control)/093-1.mp3  \n",
            "  inflating: data/labeled-control/Labeled (Control)/096-1.mp3  \n",
            "  inflating: data/labeled-control/Labeled (Control)/096-2.mp3  \n",
            "  inflating: data/labeled-control/Labeled (Control)/105-0.mp3  \n",
            "  inflating: data/labeled-control/Labeled (Control)/105-1.mp3  \n",
            "  inflating: data/labeled-control/Labeled (Control)/105-2.mp3  \n",
            "  inflating: data/labeled-control/Labeled (Control)/107-1.mp3  \n",
            "  inflating: data/labeled-control/Labeled (Control)/107-2.mp3  \n",
            "  inflating: data/labeled-control/Labeled (Control)/109-1.mp3  \n",
            "  inflating: data/labeled-control/Labeled (Control)/109-3.mp3  \n",
            "  inflating: data/labeled-control/Labeled (Control)/109-4.mp3  \n",
            "  inflating: data/labeled-control/Labeled (Control)/113-0.mp3  \n",
            "  inflating: data/labeled-control/Labeled (Control)/113-1.mp3  \n",
            "  inflating: data/labeled-control/Labeled (Control)/113-2.mp3  \n",
            "  inflating: data/labeled-control/Labeled (Control)/113-3.mp3  \n",
            "  inflating: data/labeled-control/Labeled (Control)/114-0.mp3  \n",
            "  inflating: data/labeled-control/Labeled (Control)/114-1.mp3  \n",
            "  inflating: data/labeled-control/Labeled (Control)/114-2.mp3  \n",
            "  inflating: data/labeled-control/Labeled (Control)/114-3.mp3  \n",
            "  inflating: data/labeled-control/Labeled (Control)/114-4.mp3  \n",
            "  inflating: data/labeled-control/Labeled (Control)/118-0.mp3  \n",
            "  inflating: data/labeled-control/Labeled (Control)/118-1.mp3  \n",
            "  inflating: data/labeled-control/Labeled (Control)/118-2.mp3  \n",
            "  inflating: data/labeled-control/Labeled (Control)/118-3.mp3  \n",
            "  inflating: data/labeled-control/Labeled (Control)/118-4.mp3  \n",
            "  inflating: data/labeled-control/Labeled (Control)/121-0.mp3  \n",
            "  inflating: data/labeled-control/Labeled (Control)/121-1.mp3  \n",
            "  inflating: data/labeled-control/Labeled (Control)/121-2.mp3  \n",
            "  inflating: data/labeled-control/Labeled (Control)/121-3.mp3  \n",
            "  inflating: data/labeled-control/Labeled (Control)/121-4.mp3  \n",
            "  inflating: data/labeled-control/Labeled (Control)/124-0.mp3  \n",
            "  inflating: data/labeled-control/Labeled (Control)/124-1.mp3  \n",
            "Archive:  unlabeled.zip\n",
            "  inflating: data/unlabeled/Unlabeled/common_voice_en_41236242.mp3  \n",
            "  inflating: data/unlabeled/Unlabeled/common_voice_en_41247165.mp3  \n",
            "  inflating: data/unlabeled/Unlabeled/common_voice_en_41247167.mp3  \n",
            "  inflating: data/unlabeled/Unlabeled/common_voice_en_41247169.mp3  \n",
            "  inflating: data/unlabeled/Unlabeled/common_voice_en_41247171.mp3  \n",
            "  inflating: data/unlabeled/Unlabeled/common_voice_en_41247172.mp3  \n",
            "  inflating: data/unlabeled/Unlabeled/common_voice_en_41247197.mp3  \n",
            "  inflating: data/unlabeled/Unlabeled/common_voice_en_41247199.mp3  \n",
            "  inflating: data/unlabeled/Unlabeled/common_voice_en_41247200.mp3  \n",
            "  inflating: data/unlabeled/Unlabeled/common_voice_en_41247202.mp3  \n",
            "  inflating: data/unlabeled/Unlabeled/common_voice_en_41247203.mp3  \n",
            "  inflating: data/unlabeled/Unlabeled/common_voice_en_41247255.mp3  \n",
            "  inflating: data/unlabeled/Unlabeled/common_voice_en_41247257.mp3  \n",
            "  inflating: data/unlabeled/Unlabeled/common_voice_en_41247259.mp3  \n",
            "  inflating: data/unlabeled/Unlabeled/common_voice_en_41247261.mp3  \n",
            "  inflating: data/unlabeled/Unlabeled/common_voice_en_41247263.mp3  \n",
            "  inflating: data/unlabeled/Unlabeled/common_voice_en_41247311.mp3  \n",
            "  inflating: data/unlabeled/Unlabeled/common_voice_en_41247313.mp3  \n",
            "  inflating: data/unlabeled/Unlabeled/common_voice_en_41247316.mp3  \n",
            "  inflating: data/unlabeled/Unlabeled/common_voice_en_41247317.mp3  \n",
            "  inflating: data/unlabeled/Unlabeled/common_voice_en_41247318.mp3  \n",
            "  inflating: data/unlabeled/Unlabeled/common_voice_en_41247339.mp3  \n",
            "  inflating: data/unlabeled/Unlabeled/common_voice_en_41247343.mp3  \n",
            "  inflating: data/unlabeled/Unlabeled/common_voice_en_41247344.mp3  \n",
            "  inflating: data/unlabeled/Unlabeled/common_voice_en_41247346.mp3  \n",
            "  inflating: data/unlabeled/Unlabeled/common_voice_en_41247348.mp3  \n",
            "  inflating: data/unlabeled/Unlabeled/common_voice_en_41247370.mp3  \n",
            "  inflating: data/unlabeled/Unlabeled/common_voice_en_41247371.mp3  \n",
            "  inflating: data/unlabeled/Unlabeled/common_voice_en_41247372.mp3  \n",
            "  inflating: data/unlabeled/Unlabeled/common_voice_en_41247373.mp3  \n",
            "  inflating: data/unlabeled/Unlabeled/common_voice_en_41247374.mp3  \n",
            "  inflating: data/unlabeled/Unlabeled/common_voice_en_41247398.mp3  \n",
            "  inflating: data/unlabeled/Unlabeled/common_voice_en_41247399.mp3  \n",
            "  inflating: data/unlabeled/Unlabeled/common_voice_en_41247401.mp3  \n",
            "  inflating: data/unlabeled/Unlabeled/common_voice_en_41247403.mp3  \n",
            "  inflating: data/unlabeled/Unlabeled/common_voice_en_41247404.mp3  \n",
            "  inflating: data/unlabeled/Unlabeled/common_voice_en_41249193.mp3  \n",
            "  inflating: data/unlabeled/Unlabeled/common_voice_en_41249194.mp3  \n",
            "  inflating: data/unlabeled/Unlabeled/common_voice_en_41249195.mp3  \n",
            "  inflating: data/unlabeled/Unlabeled/common_voice_en_41249196.mp3  \n",
            "  inflating: data/unlabeled/Unlabeled/common_voice_en_41249197.mp3  \n",
            "  inflating: data/unlabeled/Unlabeled/common_voice_en_41253075.mp3  \n",
            "  inflating: data/unlabeled/Unlabeled/common_voice_en_41253076.mp3  \n",
            "  inflating: data/unlabeled/Unlabeled/common_voice_en_41253079.mp3  \n",
            "  inflating: data/unlabeled/Unlabeled/common_voice_en_41253081.mp3  \n",
            "  inflating: data/unlabeled/Unlabeled/common_voice_en_41253083.mp3  \n",
            "  inflating: data/unlabeled/Unlabeled/common_voice_en_41254427.mp3  \n",
            "  inflating: data/unlabeled/Unlabeled/common_voice_en_41254428.mp3  \n",
            "  inflating: data/unlabeled/Unlabeled/common_voice_en_41254429.mp3  \n",
            "  inflating: data/unlabeled/Unlabeled/common_voice_en_41254430.mp3  \n",
            "  inflating: data/unlabeled/Unlabeled/common_voice_en_41254431.mp3  \n",
            "  inflating: data/unlabeled/Unlabeled/common_voice_en_41256752.mp3  \n",
            "  inflating: data/unlabeled/Unlabeled/common_voice_en_41256754.mp3  \n",
            "  inflating: data/unlabeled/Unlabeled/common_voice_en_41256755.mp3  \n",
            "  inflating: data/unlabeled/Unlabeled/common_voice_en_41256756.mp3  \n",
            "  inflating: data/unlabeled/Unlabeled/common_voice_en_41256757.mp3  \n",
            "  inflating: data/unlabeled/Unlabeled/common_voice_en_41259139.mp3  \n",
            "  inflating: data/unlabeled/Unlabeled/common_voice_en_41259140.mp3  \n",
            "  inflating: data/unlabeled/Unlabeled/common_voice_en_41259141.mp3  \n",
            "  inflating: data/unlabeled/Unlabeled/common_voice_en_41259142.mp3  \n",
            "  inflating: data/unlabeled/Unlabeled/common_voice_en_41259143.mp3  \n",
            "  inflating: data/unlabeled/Unlabeled/common_voice_en_41259459.mp3  \n",
            "  inflating: data/unlabeled/Unlabeled/common_voice_en_41259460.mp3  \n",
            "  inflating: data/unlabeled/Unlabeled/common_voice_en_41259461.mp3  \n",
            "  inflating: data/unlabeled/Unlabeled/common_voice_en_41259462.mp3  \n",
            "  inflating: data/unlabeled/Unlabeled/common_voice_en_41259463.mp3  \n",
            "  inflating: data/unlabeled/Unlabeled/common_voice_en_41267069.mp3  \n",
            "  inflating: data/unlabeled/Unlabeled/common_voice_en_41267071.mp3  \n",
            "  inflating: data/unlabeled/Unlabeled/common_voice_en_41267073.mp3  \n",
            "  inflating: data/unlabeled/Unlabeled/common_voice_en_41267075.mp3  \n",
            "  inflating: data/unlabeled/Unlabeled/common_voice_en_41267078.mp3  \n",
            "  inflating: data/unlabeled/Unlabeled/common_voice_en_41267143.mp3  \n",
            "  inflating: data/unlabeled/Unlabeled/common_voice_en_41267148.mp3  \n",
            "  inflating: data/unlabeled/Unlabeled/common_voice_en_41267150.mp3  \n",
            "  inflating: data/unlabeled/Unlabeled/common_voice_en_41267151.mp3  \n",
            "  inflating: data/unlabeled/Unlabeled/common_voice_en_41267153.mp3  \n",
            "  inflating: data/unlabeled/Unlabeled/common_voice_en_41269175.mp3  \n",
            "  inflating: data/unlabeled/Unlabeled/common_voice_en_41269178.mp3  \n",
            "  inflating: data/unlabeled/Unlabeled/common_voice_en_41269180.mp3  \n",
            "  inflating: data/unlabeled/Unlabeled/common_voice_en_41269183.mp3  \n",
            "  inflating: data/unlabeled/Unlabeled/common_voice_en_41269185.mp3  \n",
            "  inflating: data/unlabeled/Unlabeled/common_voice_en_41269213.mp3  \n",
            "  inflating: data/unlabeled/Unlabeled/common_voice_en_41269214.mp3  \n",
            "  inflating: data/unlabeled/Unlabeled/common_voice_en_41269215.mp3  \n",
            "  inflating: data/unlabeled/Unlabeled/common_voice_en_41269216.mp3  \n",
            "  inflating: data/unlabeled/Unlabeled/common_voice_en_41269217.mp3  \n",
            "  inflating: data/unlabeled/Unlabeled/common_voice_en_41269250.mp3  \n",
            "  inflating: data/unlabeled/Unlabeled/common_voice_en_41269252.mp3  \n",
            "  inflating: data/unlabeled/Unlabeled/common_voice_en_41269253.mp3  \n",
            "  inflating: data/unlabeled/Unlabeled/common_voice_en_41269255.mp3  \n",
            "  inflating: data/unlabeled/Unlabeled/common_voice_en_41269256.mp3  \n",
            "  inflating: data/unlabeled/Unlabeled/common_voice_en_41269289.mp3  \n",
            "  inflating: data/unlabeled/Unlabeled/common_voice_en_41269292.mp3  \n",
            "  inflating: data/unlabeled/Unlabeled/common_voice_en_41269295.mp3  \n",
            "  inflating: data/unlabeled/Unlabeled/common_voice_en_41269299.mp3  \n",
            "  inflating: data/unlabeled/Unlabeled/common_voice_en_41269301.mp3  \n",
            "  inflating: data/unlabeled/Unlabeled/common_voice_en_41269331.mp3  \n",
            "  inflating: data/unlabeled/Unlabeled/common_voice_en_41269334.mp3  \n",
            "  inflating: data/unlabeled/Unlabeled/common_voice_en_41269335.mp3  \n",
            "  inflating: data/unlabeled/Unlabeled/common_voice_en_41269338.mp3  \n",
            "  inflating: data/unlabeled/Unlabeled/common_voice_en_41269340.mp3  \n",
            "  inflating: data/unlabeled/Unlabeled/common_voice_en_41269369.mp3  \n",
            "  inflating: data/unlabeled/Unlabeled/common_voice_en_41269370.mp3  \n",
            "  inflating: data/unlabeled/Unlabeled/common_voice_en_41269372.mp3  \n",
            "  inflating: data/unlabeled/Unlabeled/common_voice_en_41269375.mp3  \n",
            "  inflating: data/unlabeled/Unlabeled/common_voice_en_41269376.mp3  \n",
            "  inflating: data/unlabeled/Unlabeled/common_voice_en_41269425.mp3  \n",
            "  inflating: data/unlabeled/Unlabeled/common_voice_en_41269427.mp3  \n",
            "  inflating: data/unlabeled/Unlabeled/common_voice_en_41269428.mp3  \n",
            "  inflating: data/unlabeled/Unlabeled/common_voice_en_41269429.mp3  \n",
            "  inflating: data/unlabeled/Unlabeled/common_voice_en_41269430.mp3  \n",
            "  inflating: data/unlabeled/Unlabeled/common_voice_en_41269471.mp3  \n",
            "  inflating: data/unlabeled/Unlabeled/common_voice_en_41269474.mp3  \n",
            "  inflating: data/unlabeled/Unlabeled/common_voice_en_41269477.mp3  \n",
            "  inflating: data/unlabeled/Unlabeled/common_voice_en_41269479.mp3  \n",
            "  inflating: data/unlabeled/Unlabeled/common_voice_en_41269482.mp3  \n",
            "  inflating: data/unlabeled/Unlabeled/common_voice_en_41269508.mp3  \n",
            "  inflating: data/unlabeled/Unlabeled/common_voice_en_41269509.mp3  \n",
            "  inflating: data/unlabeled/Unlabeled/common_voice_en_41269511.mp3  \n",
            "  inflating: data/unlabeled/Unlabeled/common_voice_en_41269514.mp3  \n",
            "  inflating: data/unlabeled/Unlabeled/common_voice_en_41269515.mp3  \n",
            "  inflating: data/unlabeled/Unlabeled/common_voice_en_41269534.mp3  \n",
            "  inflating: data/unlabeled/Unlabeled/common_voice_en_41269535.mp3  \n",
            "  inflating: data/unlabeled/Unlabeled/common_voice_en_41269536.mp3  \n",
            "  inflating: data/unlabeled/Unlabeled/common_voice_en_41269537.mp3  \n",
            "  inflating: data/unlabeled/Unlabeled/common_voice_en_41269538.mp3  \n",
            "  inflating: data/unlabeled/Unlabeled/common_voice_en_41269544.mp3  \n",
            "  inflating: data/unlabeled/Unlabeled/common_voice_en_41269545.mp3  \n",
            "  inflating: data/unlabeled/Unlabeled/common_voice_en_41269546.mp3  \n",
            "  inflating: data/unlabeled/Unlabeled/common_voice_en_41269547.mp3  \n",
            "  inflating: data/unlabeled/Unlabeled/common_voice_en_41269548.mp3  \n",
            "  inflating: data/unlabeled/Unlabeled/common_voice_en_41269626.mp3  \n",
            "  inflating: data/unlabeled/Unlabeled/common_voice_en_41273239.mp3  \n",
            "  inflating: data/unlabeled/Unlabeled/common_voice_en_41273598.mp3  \n",
            "  inflating: data/unlabeled/Unlabeled/common_voice_en_41273599.mp3  \n",
            "  inflating: data/unlabeled/Unlabeled/common_voice_en_41273601.mp3  \n",
            "  inflating: data/unlabeled/Unlabeled/common_voice_en_41273604.mp3  \n",
            "  inflating: data/unlabeled/Unlabeled/common_voice_en_41273605.mp3  \n",
            "  inflating: data/unlabeled/Unlabeled/common_voice_en_41273651.mp3  \n",
            "  inflating: data/unlabeled/Unlabeled/common_voice_en_41273652.mp3  \n",
            "  inflating: data/unlabeled/Unlabeled/common_voice_en_41273653.mp3  \n",
            "  inflating: data/unlabeled/Unlabeled/common_voice_en_41273654.mp3  \n",
            "  inflating: data/unlabeled/Unlabeled/common_voice_en_41273675.mp3  \n",
            "  inflating: data/unlabeled/Unlabeled/common_voice_en_41273676.mp3  \n",
            "  inflating: data/unlabeled/Unlabeled/common_voice_en_41273677.mp3  \n",
            "  inflating: data/unlabeled/Unlabeled/common_voice_en_41273678.mp3  \n",
            "  inflating: data/unlabeled/Unlabeled/common_voice_en_41273679.mp3  \n",
            "  inflating: data/unlabeled/Unlabeled/common_voice_en_41273725.mp3  \n",
            "  inflating: data/unlabeled/Unlabeled/common_voice_en_41273726.mp3  \n",
            "  inflating: data/unlabeled/Unlabeled/common_voice_en_41273728.mp3  \n",
            "  inflating: data/unlabeled/Unlabeled/common_voice_en_41273730.mp3  \n",
            "  inflating: data/unlabeled/Unlabeled/common_voice_en_41273731.mp3  \n",
            "  inflating: data/unlabeled/Unlabeled/common_voice_en_41273801.mp3  \n",
            "  inflating: data/unlabeled/Unlabeled/common_voice_en_41273803.mp3  \n",
            "  inflating: data/unlabeled/Unlabeled/common_voice_en_41273804.mp3  \n",
            "  inflating: data/unlabeled/Unlabeled/common_voice_en_41273806.mp3  \n",
            "  inflating: data/unlabeled/Unlabeled/common_voice_en_41278458.mp3  \n",
            "  inflating: data/unlabeled/Unlabeled/common_voice_en_41278459.mp3  \n",
            "  inflating: data/unlabeled/Unlabeled/common_voice_en_41278460.mp3  \n",
            "  inflating: data/unlabeled/Unlabeled/common_voice_en_41278461.mp3  \n",
            "  inflating: data/unlabeled/Unlabeled/common_voice_en_41278462.mp3  \n",
            "  inflating: data/unlabeled/Unlabeled/common_voice_en_41278585.mp3  \n",
            "  inflating: data/unlabeled/Unlabeled/common_voice_en_41281272.mp3  \n",
            "  inflating: data/unlabeled/Unlabeled/common_voice_en_41281273.mp3  \n",
            "  inflating: data/unlabeled/Unlabeled/common_voice_en_41281274.mp3  \n",
            "  inflating: data/unlabeled/Unlabeled/common_voice_en_41281275.mp3  \n",
            "  inflating: data/unlabeled/Unlabeled/common_voice_en_41281276.mp3  \n",
            "  inflating: data/unlabeled/Unlabeled/common_voice_en_41281277.mp3  \n",
            "  inflating: data/unlabeled/Unlabeled/common_voice_en_41281278.mp3  \n",
            "  inflating: data/unlabeled/Unlabeled/common_voice_en_41281279.mp3  \n",
            "  inflating: data/unlabeled/Unlabeled/common_voice_en_41281280.mp3  \n",
            "  inflating: data/unlabeled/Unlabeled/common_voice_en_41281281.mp3  \n",
            "  inflating: data/unlabeled/Unlabeled/common_voice_en_41281282.mp3  \n",
            "  inflating: data/unlabeled/Unlabeled/common_voice_en_41281283.mp3  \n",
            "  inflating: data/unlabeled/Unlabeled/common_voice_en_41281284.mp3  \n",
            "  inflating: data/unlabeled/Unlabeled/common_voice_en_41281285.mp3  \n",
            "  inflating: data/unlabeled/Unlabeled/common_voice_en_41281286.mp3  \n",
            "  inflating: data/unlabeled/Unlabeled/common_voice_en_41281287.mp3  \n",
            "  inflating: data/unlabeled/Unlabeled/common_voice_en_41281288.mp3  \n",
            "  inflating: data/unlabeled/Unlabeled/common_voice_en_41281289.mp3  \n",
            "  inflating: data/unlabeled/Unlabeled/common_voice_en_41281290.mp3  \n",
            "  inflating: data/unlabeled/Unlabeled/common_voice_en_41281291.mp3  \n",
            "  inflating: data/unlabeled/Unlabeled/common_voice_en_41281292.mp3  \n",
            "  inflating: data/unlabeled/Unlabeled/common_voice_en_41281293.mp3  \n",
            "  inflating: data/unlabeled/Unlabeled/common_voice_en_41281294.mp3  \n",
            "  inflating: data/unlabeled/Unlabeled/common_voice_en_41281295.mp3  \n",
            "  inflating: data/unlabeled/Unlabeled/common_voice_en_41281296.mp3  \n",
            "  inflating: data/unlabeled/Unlabeled/common_voice_en_41281302.mp3  \n",
            "  inflating: data/unlabeled/Unlabeled/common_voice_en_41281303.mp3  \n",
            "  inflating: data/unlabeled/Unlabeled/common_voice_en_41281304.mp3  \n",
            "  inflating: data/unlabeled/Unlabeled/common_voice_en_41281305.mp3  \n",
            "  inflating: data/unlabeled/Unlabeled/common_voice_en_41281306.mp3  \n",
            "  inflating: data/unlabeled/Unlabeled/common_voice_en_41281312.mp3  \n",
            "  inflating: data/unlabeled/Unlabeled/common_voice_en_41281313.mp3  \n",
            "  inflating: data/unlabeled/Unlabeled/common_voice_en_41281314.mp3  \n",
            "  inflating: data/unlabeled/Unlabeled/common_voice_en_41281315.mp3  \n",
            "  inflating: data/unlabeled/Unlabeled/common_voice_en_41281316.mp3  \n",
            "  inflating: data/unlabeled/Unlabeled/common_voice_en_41281317.mp3  \n",
            "  inflating: data/unlabeled/Unlabeled/common_voice_en_41281318.mp3  \n",
            "  inflating: data/unlabeled/Unlabeled/common_voice_en_41281319.mp3  \n",
            "  inflating: data/unlabeled/Unlabeled/common_voice_en_41281320.mp3  \n",
            "  inflating: data/unlabeled/Unlabeled/common_voice_en_41281321.mp3  \n",
            "  inflating: data/unlabeled/Unlabeled/common_voice_en_41281322.mp3  \n",
            "  inflating: data/unlabeled/Unlabeled/common_voice_en_41281323.mp3  \n",
            "  inflating: data/unlabeled/Unlabeled/common_voice_en_41281324.mp3  \n",
            "  inflating: data/unlabeled/Unlabeled/common_voice_en_41281325.mp3  \n",
            "  inflating: data/unlabeled/Unlabeled/common_voice_en_41281326.mp3  \n",
            "  inflating: data/unlabeled/Unlabeled/common_voice_en_41281327.mp3  \n",
            "  inflating: data/unlabeled/Unlabeled/common_voice_en_41281328.mp3  \n",
            "  inflating: data/unlabeled/Unlabeled/common_voice_en_41281329.mp3  \n",
            "  inflating: data/unlabeled/Unlabeled/common_voice_en_41281330.mp3  \n",
            "  inflating: data/unlabeled/Unlabeled/common_voice_en_41281331.mp3  \n",
            "  inflating: data/unlabeled/Unlabeled/common_voice_en_41281332.mp3  \n",
            "  inflating: data/unlabeled/Unlabeled/common_voice_en_41281333.mp3  \n",
            "  inflating: data/unlabeled/Unlabeled/common_voice_en_41281334.mp3  \n",
            "  inflating: data/unlabeled/Unlabeled/common_voice_en_41281335.mp3  \n",
            "  inflating: data/unlabeled/Unlabeled/common_voice_en_41281336.mp3  \n",
            "  inflating: data/unlabeled/Unlabeled/common_voice_en_41281337.mp3  \n",
            "  inflating: data/unlabeled/Unlabeled/common_voice_en_41281338.mp3  \n",
            "  inflating: data/unlabeled/Unlabeled/common_voice_en_41281339.mp3  \n",
            "  inflating: data/unlabeled/Unlabeled/common_voice_en_41281340.mp3  \n",
            "  inflating: data/unlabeled/Unlabeled/common_voice_en_41281346.mp3  \n",
            "  inflating: data/unlabeled/Unlabeled/common_voice_en_41281347.mp3  \n",
            "  inflating: data/unlabeled/Unlabeled/common_voice_en_41281348.mp3  \n",
            "  inflating: data/unlabeled/Unlabeled/common_voice_en_41281349.mp3  \n",
            "  inflating: data/unlabeled/Unlabeled/common_voice_en_41281350.mp3  \n",
            "  inflating: data/unlabeled/Unlabeled/common_voice_en_41281351.mp3  \n",
            "  inflating: data/unlabeled/Unlabeled/common_voice_en_41281352.mp3  \n",
            "  inflating: data/unlabeled/Unlabeled/common_voice_en_41281353.mp3  \n",
            "  inflating: data/unlabeled/Unlabeled/common_voice_en_41281354.mp3  \n",
            "  inflating: data/unlabeled/Unlabeled/common_voice_en_41281355.mp3  \n",
            "  inflating: data/unlabeled/Unlabeled/common_voice_en_41281372.mp3  \n",
            "  inflating: data/unlabeled/Unlabeled/common_voice_en_41281373.mp3  \n",
            "  inflating: data/unlabeled/Unlabeled/common_voice_en_41282616.mp3  \n",
            "  inflating: data/unlabeled/Unlabeled/common_voice_en_41282617.mp3  \n",
            "  inflating: data/unlabeled/Unlabeled/common_voice_en_41282618.mp3  \n",
            "  inflating: data/unlabeled/Unlabeled/common_voice_en_41282620.mp3  \n",
            "  inflating: data/unlabeled/Unlabeled/common_voice_en_41282621.mp3  \n",
            "  inflating: data/unlabeled/Unlabeled/common_voice_en_41282634.mp3  \n",
            "  inflating: data/unlabeled/Unlabeled/common_voice_en_41282635.mp3  \n",
            "  inflating: data/unlabeled/Unlabeled/common_voice_en_41282636.mp3  \n",
            "  inflating: data/unlabeled/Unlabeled/common_voice_en_41282637.mp3  \n",
            "  inflating: data/unlabeled/Unlabeled/common_voice_en_41282638.mp3  \n",
            "  inflating: data/unlabeled/Unlabeled/common_voice_en_41282644.mp3  \n",
            "  inflating: data/unlabeled/Unlabeled/common_voice_en_41282645.mp3  \n",
            "  inflating: data/unlabeled/Unlabeled/common_voice_en_41282646.mp3  \n",
            "  inflating: data/unlabeled/Unlabeled/common_voice_en_41282647.mp3  \n",
            "  inflating: data/unlabeled/Unlabeled/common_voice_en_41282648.mp3  \n",
            "  inflating: data/unlabeled/Unlabeled/common_voice_en_41282674.mp3  \n",
            "  inflating: data/unlabeled/Unlabeled/common_voice_en_41282675.mp3  \n",
            "  inflating: data/unlabeled/Unlabeled/common_voice_en_41282676.mp3  \n",
            "  inflating: data/unlabeled/Unlabeled/common_voice_en_41282677.mp3  \n",
            "  inflating: data/unlabeled/Unlabeled/common_voice_en_41282678.mp3  \n",
            "  inflating: data/unlabeled/Unlabeled/common_voice_en_41282679.mp3  \n",
            "  inflating: data/unlabeled/Unlabeled/common_voice_en_41282680.mp3  \n",
            "  inflating: data/unlabeled/Unlabeled/common_voice_en_41282681.mp3  \n",
            "  inflating: data/unlabeled/Unlabeled/common_voice_en_41282682.mp3  \n",
            "  inflating: data/unlabeled/Unlabeled/common_voice_en_41282683.mp3  \n",
            "  inflating: data/unlabeled/Unlabeled/common_voice_en_41283121.mp3  \n",
            "  inflating: data/unlabeled/Unlabeled/common_voice_en_41283122.mp3  \n",
            "  inflating: data/unlabeled/Unlabeled/common_voice_en_41283123.mp3  \n",
            "  inflating: data/unlabeled/Unlabeled/common_voice_en_41283124.mp3  \n",
            "  inflating: data/unlabeled/Unlabeled/common_voice_en_41283125.mp3  \n",
            "  inflating: data/unlabeled/Unlabeled/common_voice_en_41283863.mp3  \n",
            "  inflating: data/unlabeled/Unlabeled/common_voice_en_41283864.mp3  \n",
            "  inflating: data/unlabeled/Unlabeled/common_voice_en_41283865.mp3  \n",
            "  inflating: data/unlabeled/Unlabeled/common_voice_en_41283867.mp3  \n",
            "  inflating: data/unlabeled/Unlabeled/common_voice_en_41283868.mp3  \n",
            "  inflating: data/unlabeled/Unlabeled/common_voice_en_41284039.mp3  \n",
            "  inflating: data/unlabeled/Unlabeled/common_voice_en_41284040.mp3  \n",
            "  inflating: data/unlabeled/Unlabeled/common_voice_en_41284042.mp3  \n",
            "  inflating: data/unlabeled/Unlabeled/common_voice_en_41284044.mp3  \n",
            "  inflating: data/unlabeled/Unlabeled/common_voice_en_41284045.mp3  \n",
            "  inflating: data/unlabeled/Unlabeled/common_voice_en_41284138.mp3  \n",
            "  inflating: data/unlabeled/Unlabeled/common_voice_en_41284139.mp3  \n",
            "  inflating: data/unlabeled/Unlabeled/common_voice_en_41284140.mp3  \n",
            "  inflating: data/unlabeled/Unlabeled/common_voice_en_41284141.mp3  \n",
            "  inflating: data/unlabeled/Unlabeled/common_voice_en_41284142.mp3  \n",
            "  inflating: data/unlabeled/Unlabeled/common_voice_en_41284526.mp3  \n",
            "  inflating: data/unlabeled/Unlabeled/common_voice_en_41284528.mp3  \n",
            "  inflating: data/unlabeled/Unlabeled/common_voice_en_41284530.mp3  \n",
            "  inflating: data/unlabeled/Unlabeled/common_voice_en_41284531.mp3  \n",
            "  inflating: data/unlabeled/Unlabeled/common_voice_en_41284532.mp3  \n",
            "  inflating: data/unlabeled/Unlabeled/common_voice_en_41288813.mp3  \n",
            "  inflating: data/unlabeled/Unlabeled/common_voice_en_41288814.mp3  \n",
            "  inflating: data/unlabeled/Unlabeled/common_voice_en_41288815.mp3  \n",
            "  inflating: data/unlabeled/Unlabeled/common_voice_en_41288816.mp3  \n",
            "  inflating: data/unlabeled/Unlabeled/common_voice_en_41288817.mp3  \n",
            "  inflating: data/unlabeled/Unlabeled/common_voice_en_41288818.mp3  \n",
            "  inflating: data/unlabeled/Unlabeled/common_voice_en_41288819.mp3  \n",
            "  inflating: data/unlabeled/Unlabeled/common_voice_en_41288820.mp3  \n",
            "  inflating: data/unlabeled/Unlabeled/common_voice_en_41288821.mp3  \n",
            "  inflating: data/unlabeled/Unlabeled/common_voice_en_41288822.mp3  \n",
            "  inflating: data/unlabeled/Unlabeled/common_voice_en_41288836.mp3  \n",
            "  inflating: data/unlabeled/Unlabeled/common_voice_en_41288837.mp3  \n",
            "  inflating: data/unlabeled/Unlabeled/common_voice_en_41288838.mp3  \n",
            "  inflating: data/unlabeled/Unlabeled/common_voice_en_41288840.mp3  \n",
            "  inflating: data/unlabeled/Unlabeled/common_voice_en_41288841.mp3  \n",
            "  inflating: data/unlabeled/Unlabeled/common_voice_en_41288915.mp3  \n",
            "  inflating: data/unlabeled/Unlabeled/common_voice_en_41288916.mp3  \n",
            "  inflating: data/unlabeled/Unlabeled/common_voice_en_41288917.mp3  \n",
            "  inflating: data/unlabeled/Unlabeled/common_voice_en_41288918.mp3  \n",
            "  inflating: data/unlabeled/Unlabeled/common_voice_en_41288919.mp3  \n",
            "  inflating: data/unlabeled/Unlabeled/common_voice_en_41288948.mp3  \n",
            "  inflating: data/unlabeled/Unlabeled/common_voice_en_41288949.mp3  \n",
            "  inflating: data/unlabeled/Unlabeled/common_voice_en_41288950.mp3  \n",
            "  inflating: data/unlabeled/Unlabeled/common_voice_en_41288951.mp3  \n",
            "  inflating: data/unlabeled/Unlabeled/common_voice_en_41288952.mp3  \n",
            "  inflating: data/unlabeled/Unlabeled/common_voice_en_41288958.mp3  \n",
            "  inflating: data/unlabeled/Unlabeled/common_voice_en_41288959.mp3  \n",
            "  inflating: data/unlabeled/Unlabeled/common_voice_en_41288960.mp3  \n",
            "  inflating: data/unlabeled/Unlabeled/common_voice_en_41288961.mp3  \n",
            "  inflating: data/unlabeled/Unlabeled/common_voice_en_41288962.mp3  \n",
            "  inflating: data/unlabeled/Unlabeled/common_voice_en_41288974.mp3  \n",
            "  inflating: data/unlabeled/Unlabeled/common_voice_en_41288975.mp3  \n",
            "  inflating: data/unlabeled/Unlabeled/common_voice_en_41288977.mp3  \n",
            "  inflating: data/unlabeled/Unlabeled/common_voice_en_41288978.mp3  \n",
            "  inflating: data/unlabeled/Unlabeled/common_voice_en_41288980.mp3  \n",
            "  inflating: data/unlabeled/Unlabeled/common_voice_en_41288983.mp3  \n",
            "  inflating: data/unlabeled/Unlabeled/common_voice_en_41288984.mp3  \n",
            "  inflating: data/unlabeled/Unlabeled/common_voice_en_41288985.mp3  \n",
            "  inflating: data/unlabeled/Unlabeled/common_voice_en_41288986.mp3  \n",
            "  inflating: data/unlabeled/Unlabeled/common_voice_en_41288992.mp3  \n",
            "  inflating: data/unlabeled/Unlabeled/common_voice_en_41288993.mp3  \n",
            "  inflating: data/unlabeled/Unlabeled/common_voice_en_41288994.mp3  \n",
            "  inflating: data/unlabeled/Unlabeled/common_voice_en_41288995.mp3  \n",
            "  inflating: data/unlabeled/Unlabeled/common_voice_en_41288996.mp3  \n",
            "  inflating: data/unlabeled/Unlabeled/common_voice_en_41289007.mp3  \n",
            "  inflating: data/unlabeled/Unlabeled/common_voice_en_41289008.mp3  \n",
            "  inflating: data/unlabeled/Unlabeled/common_voice_en_41289009.mp3  \n",
            "  inflating: data/unlabeled/Unlabeled/common_voice_en_41289010.mp3  \n",
            "  inflating: data/unlabeled/Unlabeled/common_voice_en_41289011.mp3  \n",
            "  inflating: data/unlabeled/Unlabeled/common_voice_en_41289017.mp3  \n",
            "  inflating: data/unlabeled/Unlabeled/common_voice_en_41289018.mp3  \n",
            "  inflating: data/unlabeled/Unlabeled/common_voice_en_41289019.mp3  \n",
            "  inflating: data/unlabeled/Unlabeled/common_voice_en_41289020.mp3  \n",
            "  inflating: data/unlabeled/Unlabeled/common_voice_en_41289021.mp3  \n",
            "  inflating: data/unlabeled/Unlabeled/common_voice_en_41289037.mp3  \n",
            "  inflating: data/unlabeled/Unlabeled/common_voice_en_41289038.mp3  \n",
            "  inflating: data/unlabeled/Unlabeled/common_voice_en_41289039.mp3  \n",
            "  inflating: data/unlabeled/Unlabeled/common_voice_en_41289040.mp3  \n",
            "  inflating: data/unlabeled/Unlabeled/common_voice_en_41289041.mp3  \n",
            "  inflating: data/unlabeled/Unlabeled/common_voice_en_41289067.mp3  \n",
            "  inflating: data/unlabeled/Unlabeled/common_voice_en_41289068.mp3  \n",
            "  inflating: data/unlabeled/Unlabeled/common_voice_en_41289069.mp3  \n",
            "  inflating: data/unlabeled/Unlabeled/common_voice_en_41289070.mp3  \n",
            "  inflating: data/unlabeled/Unlabeled/common_voice_en_41289071.mp3  \n",
            "  inflating: data/unlabeled/Unlabeled/common_voice_en_41289080.mp3  \n",
            "  inflating: data/unlabeled/Unlabeled/common_voice_en_41289081.mp3  \n",
            "  inflating: data/unlabeled/Unlabeled/common_voice_en_41289082.mp3  \n",
            "  inflating: data/unlabeled/Unlabeled/common_voice_en_41289083.mp3  \n",
            "  inflating: data/unlabeled/Unlabeled/common_voice_en_41289084.mp3  \n",
            "  inflating: data/unlabeled/Unlabeled/common_voice_en_41289090.mp3  \n",
            "  inflating: data/unlabeled/Unlabeled/common_voice_en_41289091.mp3  \n",
            "  inflating: data/unlabeled/Unlabeled/common_voice_en_41289092.mp3  \n",
            "  inflating: data/unlabeled/Unlabeled/common_voice_en_41289093.mp3  \n",
            "  inflating: data/unlabeled/Unlabeled/common_voice_en_41289094.mp3  \n",
            "  inflating: data/unlabeled/Unlabeled/common_voice_en_41289105.mp3  \n",
            "  inflating: data/unlabeled/Unlabeled/common_voice_en_41289106.mp3  \n",
            "  inflating: data/unlabeled/Unlabeled/common_voice_en_41289107.mp3  \n",
            "  inflating: data/unlabeled/Unlabeled/common_voice_en_41289108.mp3  \n",
            "  inflating: data/unlabeled/Unlabeled/common_voice_en_41289109.mp3  \n",
            "  inflating: data/unlabeled/Unlabeled/common_voice_en_41289130.mp3  \n",
            "  inflating: data/unlabeled/Unlabeled/common_voice_en_41289131.mp3  \n",
            "  inflating: data/unlabeled/Unlabeled/common_voice_en_41289132.mp3  \n",
            "  inflating: data/unlabeled/Unlabeled/common_voice_en_41289133.mp3  \n",
            "  inflating: data/unlabeled/Unlabeled/common_voice_en_41289134.mp3  \n",
            "  inflating: data/unlabeled/Unlabeled/common_voice_en_41289145.mp3  \n",
            "  inflating: data/unlabeled/Unlabeled/common_voice_en_41289146.mp3  \n",
            "  inflating: data/unlabeled/Unlabeled/common_voice_en_41289147.mp3  \n",
            "  inflating: data/unlabeled/Unlabeled/common_voice_en_41289149.mp3  \n",
            "  inflating: data/unlabeled/Unlabeled/common_voice_en_41289170.mp3  \n",
            "  inflating: data/unlabeled/Unlabeled/common_voice_en_41289171.mp3  \n",
            "  inflating: data/unlabeled/Unlabeled/common_voice_en_41289172.mp3  \n",
            "  inflating: data/unlabeled/Unlabeled/common_voice_en_41289173.mp3  \n",
            "  inflating: data/unlabeled/Unlabeled/common_voice_en_41289174.mp3  \n",
            "  inflating: data/unlabeled/Unlabeled/common_voice_en_41289190.mp3  \n",
            "  inflating: data/unlabeled/Unlabeled/common_voice_en_41289191.mp3  \n",
            "  inflating: data/unlabeled/Unlabeled/common_voice_en_41289192.mp3  \n",
            "  inflating: data/unlabeled/Unlabeled/common_voice_en_41289193.mp3  \n",
            "  inflating: data/unlabeled/Unlabeled/common_voice_en_41289194.mp3  \n",
            "  inflating: data/unlabeled/Unlabeled/common_voice_en_41289200.mp3  \n",
            "  inflating: data/unlabeled/Unlabeled/common_voice_en_41289201.mp3  \n",
            "  inflating: data/unlabeled/Unlabeled/common_voice_en_41289202.mp3  \n",
            "  inflating: data/unlabeled/Unlabeled/common_voice_en_41289203.mp3  \n",
            "  inflating: data/unlabeled/Unlabeled/common_voice_en_41289204.mp3  \n",
            "  inflating: data/unlabeled/Unlabeled/common_voice_en_41289232.mp3  \n",
            "  inflating: data/unlabeled/Unlabeled/common_voice_en_41289233.mp3  \n",
            "  inflating: data/unlabeled/Unlabeled/common_voice_en_41289234.mp3  \n",
            "  inflating: data/unlabeled/Unlabeled/common_voice_en_41289235.mp3  \n",
            "  inflating: data/unlabeled/Unlabeled/common_voice_en_41289236.mp3  \n",
            "  inflating: data/unlabeled/Unlabeled/common_voice_en_41289251.mp3  \n",
            "  inflating: data/unlabeled/Unlabeled/common_voice_en_41289253.mp3  \n",
            "  inflating: data/unlabeled/Unlabeled/common_voice_en_41289254.mp3  \n",
            "  inflating: data/unlabeled/Unlabeled/common_voice_en_41289266.mp3  \n",
            "  inflating: data/unlabeled/Unlabeled/common_voice_en_41289267.mp3  \n",
            "  inflating: data/unlabeled/Unlabeled/common_voice_en_41289268.mp3  \n",
            "  inflating: data/unlabeled/Unlabeled/common_voice_en_41289269.mp3  \n",
            "  inflating: data/unlabeled/Unlabeled/common_voice_en_41289270.mp3  \n",
            "  inflating: data/unlabeled/Unlabeled/common_voice_en_41289298.mp3  \n",
            "  inflating: data/unlabeled/Unlabeled/common_voice_en_41289299.mp3  \n",
            "  inflating: data/unlabeled/Unlabeled/common_voice_en_41289300.mp3  \n",
            "  inflating: data/unlabeled/Unlabeled/common_voice_en_41289301.mp3  \n",
            "  inflating: data/unlabeled/Unlabeled/common_voice_en_41289302.mp3  \n",
            "  inflating: data/unlabeled/Unlabeled/common_voice_en_41289316.mp3  \n",
            "  inflating: data/unlabeled/Unlabeled/common_voice_en_41289317.mp3  \n",
            "  inflating: data/unlabeled/Unlabeled/common_voice_en_41289319.mp3  \n",
            "  inflating: data/unlabeled/Unlabeled/common_voice_en_41289320.mp3  \n",
            "  inflating: data/unlabeled/Unlabeled/common_voice_en_41289321.mp3  \n",
            "  inflating: data/unlabeled/Unlabeled/common_voice_en_41289333.mp3  \n",
            "  inflating: data/unlabeled/Unlabeled/common_voice_en_41289334.mp3  \n",
            "  inflating: data/unlabeled/Unlabeled/common_voice_en_41289335.mp3  \n",
            "  inflating: data/unlabeled/Unlabeled/common_voice_en_41289336.mp3  \n",
            "  inflating: data/unlabeled/Unlabeled/common_voice_en_41289337.mp3  \n",
            "  inflating: data/unlabeled/Unlabeled/common_voice_en_41289371.mp3  \n",
            "  inflating: data/unlabeled/Unlabeled/common_voice_en_41289372.mp3  \n",
            "  inflating: data/unlabeled/Unlabeled/common_voice_en_41289373.mp3  \n",
            "  inflating: data/unlabeled/Unlabeled/common_voice_en_41289374.mp3  \n",
            "  inflating: data/unlabeled/Unlabeled/common_voice_en_41289375.mp3  \n",
            "  inflating: data/unlabeled/Unlabeled/common_voice_en_41289381.mp3  \n",
            "  inflating: data/unlabeled/Unlabeled/common_voice_en_41289382.mp3  \n",
            "  inflating: data/unlabeled/Unlabeled/common_voice_en_41289383.mp3  \n",
            "  inflating: data/unlabeled/Unlabeled/common_voice_en_41289384.mp3  \n",
            "  inflating: data/unlabeled/Unlabeled/common_voice_en_41289385.mp3  \n",
            "  inflating: data/unlabeled/Unlabeled/common_voice_en_41289396.mp3  \n",
            "  inflating: data/unlabeled/Unlabeled/common_voice_en_41289397.mp3  \n",
            "  inflating: data/unlabeled/Unlabeled/common_voice_en_41289398.mp3  \n",
            "  inflating: data/unlabeled/Unlabeled/common_voice_en_41289399.mp3  \n",
            "  inflating: data/unlabeled/Unlabeled/common_voice_en_41289400.mp3  \n",
            "  inflating: data/unlabeled/Unlabeled/common_voice_en_41289416.mp3  \n",
            "  inflating: data/unlabeled/Unlabeled/common_voice_en_41289417.mp3  \n",
            "  inflating: data/unlabeled/Unlabeled/common_voice_en_41289418.mp3  \n",
            "  inflating: data/unlabeled/Unlabeled/common_voice_en_41289419.mp3  \n",
            "  inflating: data/unlabeled/Unlabeled/common_voice_en_41289420.mp3  \n",
            "  inflating: data/unlabeled/Unlabeled/common_voice_en_41289430.mp3  \n",
            "  inflating: data/unlabeled/Unlabeled/common_voice_en_41289431.mp3  \n",
            "  inflating: data/unlabeled/Unlabeled/common_voice_en_41289433.mp3  \n",
            "  inflating: data/unlabeled/Unlabeled/common_voice_en_41289434.mp3  \n",
            "  inflating: data/unlabeled/Unlabeled/common_voice_en_41289435.mp3  \n",
            "  inflating: data/unlabeled/Unlabeled/common_voice_en_41289446.mp3  \n",
            "  inflating: data/unlabeled/Unlabeled/common_voice_en_41289447.mp3  \n",
            "  inflating: data/unlabeled/Unlabeled/common_voice_en_41289448.mp3  \n",
            "  inflating: data/unlabeled/Unlabeled/common_voice_en_41289464.mp3  \n",
            "  inflating: data/unlabeled/Unlabeled/common_voice_en_41289465.mp3  \n",
            "  inflating: data/unlabeled/Unlabeled/common_voice_en_41289466.mp3  \n",
            "  inflating: data/unlabeled/Unlabeled/common_voice_en_41289467.mp3  \n",
            "  inflating: data/unlabeled/Unlabeled/common_voice_en_41289468.mp3  \n",
            "  inflating: data/unlabeled/Unlabeled/common_voice_en_41289474.mp3  \n",
            "  inflating: data/unlabeled/Unlabeled/common_voice_en_41289475.mp3  \n",
            "  inflating: data/unlabeled/Unlabeled/common_voice_en_41289476.mp3  \n",
            "  inflating: data/unlabeled/Unlabeled/common_voice_en_41289477.mp3  \n",
            "  inflating: data/unlabeled/Unlabeled/common_voice_en_41289478.mp3  \n",
            "  inflating: data/unlabeled/Unlabeled/common_voice_en_41289494.mp3  \n",
            "  inflating: data/unlabeled/Unlabeled/common_voice_en_41289495.mp3  \n",
            "  inflating: data/unlabeled/Unlabeled/common_voice_en_41289496.mp3  \n",
            "  inflating: data/unlabeled/Unlabeled/common_voice_en_41289497.mp3  \n",
            "  inflating: data/unlabeled/Unlabeled/common_voice_en_41289498.mp3  \n",
            "  inflating: data/unlabeled/Unlabeled/common_voice_en_41289504.mp3  \n",
            "  inflating: data/unlabeled/Unlabeled/common_voice_en_41289505.mp3  \n",
            "  inflating: data/unlabeled/Unlabeled/common_voice_en_41289506.mp3  \n",
            "  inflating: data/unlabeled/Unlabeled/common_voice_en_41289507.mp3  \n",
            "  inflating: data/unlabeled/Unlabeled/common_voice_en_41289508.mp3  \n",
            "  inflating: data/unlabeled/Unlabeled/common_voice_en_41289519.mp3  \n",
            "  inflating: data/unlabeled/Unlabeled/common_voice_en_41289520.mp3  \n",
            "  inflating: data/unlabeled/Unlabeled/common_voice_en_41289521.mp3  \n",
            "  inflating: data/unlabeled/Unlabeled/common_voice_en_41289522.mp3  \n",
            "  inflating: data/unlabeled/Unlabeled/common_voice_en_41289534.mp3  \n",
            "  inflating: data/unlabeled/Unlabeled/common_voice_en_41289535.mp3  \n",
            "  inflating: data/unlabeled/Unlabeled/common_voice_en_41289536.mp3  \n",
            "  inflating: data/unlabeled/Unlabeled/common_voice_en_41289537.mp3  \n",
            "  inflating: data/unlabeled/Unlabeled/common_voice_en_41289539.mp3  \n",
            "  inflating: data/unlabeled/Unlabeled/common_voice_en_41289558.mp3  \n",
            "  inflating: data/unlabeled/Unlabeled/common_voice_en_41289559.mp3  \n",
            "  inflating: data/unlabeled/Unlabeled/common_voice_en_41289560.mp3  \n",
            "  inflating: data/unlabeled/Unlabeled/common_voice_en_41289561.mp3  \n",
            "  inflating: data/unlabeled/Unlabeled/common_voice_en_41289562.mp3  \n",
            "  inflating: data/unlabeled/Unlabeled/common_voice_en_41289578.mp3  \n",
            "  inflating: data/unlabeled/Unlabeled/common_voice_en_41289579.mp3  \n",
            "  inflating: data/unlabeled/Unlabeled/common_voice_en_41289580.mp3  \n",
            "  inflating: data/unlabeled/Unlabeled/common_voice_en_41289581.mp3  \n",
            "  inflating: data/unlabeled/Unlabeled/common_voice_en_41289582.mp3  \n",
            "  inflating: data/unlabeled/Unlabeled/common_voice_en_41289603.mp3  \n",
            "  inflating: data/unlabeled/Unlabeled/common_voice_en_41289604.mp3  \n",
            "  inflating: data/unlabeled/Unlabeled/common_voice_en_41289605.mp3  \n",
            "  inflating: data/unlabeled/Unlabeled/common_voice_en_41289606.mp3  \n",
            "  inflating: data/unlabeled/Unlabeled/common_voice_en_41289607.mp3  \n",
            "  inflating: data/unlabeled/Unlabeled/common_voice_en_41289613.mp3  \n",
            "  inflating: data/unlabeled/Unlabeled/common_voice_en_41289615.mp3  \n",
            "  inflating: data/unlabeled/Unlabeled/common_voice_en_41289616.mp3  \n",
            "  inflating: data/unlabeled/Unlabeled/common_voice_en_41289629.mp3  \n",
            "  inflating: data/unlabeled/Unlabeled/common_voice_en_41289630.mp3  \n",
            "  inflating: data/unlabeled/Unlabeled/common_voice_en_41289631.mp3  \n",
            "  inflating: data/unlabeled/Unlabeled/common_voice_en_41289632.mp3  \n",
            "  inflating: data/unlabeled/Unlabeled/common_voice_en_41289633.mp3  \n",
            "  inflating: data/unlabeled/Unlabeled/common_voice_en_41289635.mp3  \n",
            "  inflating: data/unlabeled/Unlabeled/common_voice_en_41289636.mp3  \n",
            "  inflating: data/unlabeled/Unlabeled/common_voice_en_41289637.mp3  \n",
            "  inflating: data/unlabeled/Unlabeled/common_voice_en_41289638.mp3  \n",
            "  inflating: data/unlabeled/Unlabeled/common_voice_en_41289639.mp3  \n",
            "  inflating: data/unlabeled/Unlabeled/common_voice_en_41289640.mp3  \n"
          ]
        }
      ]
    },
    {
      "cell_type": "markdown",
      "source": [
        "Step 11: Define a function to count audio files"
      ],
      "metadata": {
        "id": "YxnOK01Ca_eQ"
      }
    },
    {
      "cell_type": "code",
      "source": [
        "def count_audio_files(path, exts=(\".mp3\")):\n",
        "\n",
        "    return len([f for f in os.listdir(path) if f.endswith(exts)])"
      ],
      "metadata": {
        "id": "5eNahn_N0d-_"
      },
      "execution_count": null,
      "outputs": []
    },
    {
      "cell_type": "markdown",
      "source": [
        "Step 12: Set dataset folder paths"
      ],
      "metadata": {
        "id": "0cyUdScsdii5"
      }
    },
    {
      "cell_type": "code",
      "source": [
        "control_path = \"/content/data/labeled-control/Labeled (Control)\"\n",
        "dementia_path = \"/content/data/labeled-dementia/Labeled (Dementia)\"\n",
        "unlabeled_path = \"/content/data/unlabeled/Unlabeled\""
      ],
      "metadata": {
        "id": "MWwSlllz0fbb"
      },
      "execution_count": null,
      "outputs": []
    },
    {
      "cell_type": "markdown",
      "source": [
        "Step 13: Count audio files in each dataset"
      ],
      "metadata": {
        "id": "COAhq0YDfDOu"
      }
    },
    {
      "cell_type": "code",
      "source": [
        "num_control = count_audio_files(control_path)\n",
        "num_dementia = count_audio_files(dementia_path)\n",
        "num_unlabeled = count_audio_files(unlabeled_path)"
      ],
      "metadata": {
        "id": "QNlwy0vv0i9s"
      },
      "execution_count": null,
      "outputs": []
    },
    {
      "cell_type": "markdown",
      "source": [
        "Step 14: Print the number of audio clips in each category"
      ],
      "metadata": {
        "id": "Esc_MEA0fOW2"
      }
    },
    {
      "cell_type": "code",
      "source": [
        "print(f\"Dementia Clips: {num_dementia}\")\n",
        "print(f\"Control Clips: {num_control}\")\n",
        "print(f\"Unlabeled Clips: {num_unlabeled}\")"
      ],
      "metadata": {
        "colab": {
          "base_uri": "https://localhost:8080/"
        },
        "id": "Wbsafanl0kaG",
        "outputId": "f3b91247-6865-4b31-b9a5-c775e77efeac"
      },
      "execution_count": null,
      "outputs": [
        {
          "output_type": "stream",
          "name": "stdout",
          "text": [
            "Dementia Clips: 100\n",
            "Control Clips: 100\n",
            "Unlabeled Clips: 500\n"
          ]
        }
      ]
    },
    {
      "cell_type": "markdown",
      "source": [
        "Step 15: Install required audio dependencies"
      ],
      "metadata": {
        "id": "Sgsk57d9fQdM"
      }
    },
    {
      "cell_type": "code",
      "source": [
        "!pip install pydub\n",
        "!apt-get install ffmpeg -y"
      ],
      "metadata": {
        "colab": {
          "base_uri": "https://localhost:8080/"
        },
        "id": "4IhMG5f60mrW",
        "outputId": "86451437-aeac-4176-8c6d-0e8d9de189cc"
      },
      "execution_count": null,
      "outputs": [
        {
          "output_type": "stream",
          "name": "stdout",
          "text": [
            "Collecting pydub\n",
            "  Downloading pydub-0.25.1-py2.py3-none-any.whl.metadata (1.4 kB)\n",
            "Downloading pydub-0.25.1-py2.py3-none-any.whl (32 kB)\n",
            "Installing collected packages: pydub\n",
            "Successfully installed pydub-0.25.1\n",
            "Reading package lists... Done\n",
            "Building dependency tree... Done\n",
            "Reading state information... Done\n",
            "ffmpeg is already the newest version (7:4.4.2-0ubuntu0.22.04.1).\n",
            "0 upgraded, 0 newly installed, 0 to remove and 34 not upgraded.\n"
          ]
        }
      ]
    },
    {
      "cell_type": "markdown",
      "source": [
        " Step 16: Define function to convert a single MP3 to WAV"
      ],
      "metadata": {
        "id": "gC1lPxcUx21Z"
      }
    },
    {
      "cell_type": "code",
      "source": [
        "def convert_single(file_info):\n",
        "    src_file, src_dir, dest_dir = file_info\n",
        "\n",
        "    try:\n",
        "        src_path = os.path.join(src_dir, src_file)\n",
        "        dest_path = os.path.join(dest_dir, src_file.replace('.mp3', '.wav'))\n",
        "\n",
        "        if not os.path.exists(dest_path):\n",
        "            audio = AudioSegment.from_mp3(src_path)\n",
        "            audio.export(dest_path, format='wav')\n",
        "\n",
        "    except Exception as e:\n",
        "        print(f\"Error with {src_file}: {e}\")"
      ],
      "metadata": {
        "id": "acTlZzSA0rUz"
      },
      "execution_count": null,
      "outputs": []
    },
    {
      "cell_type": "markdown",
      "source": [
        "Step 17: Define function to convert all MP3s using multithreading"
      ],
      "metadata": {
        "id": "TH0EysHEx82n"
      }
    },
    {
      "cell_type": "code",
      "source": [
        "def convert_all_mp3s(src_dir, dest_dir, max_threads=8):\n",
        "    os.makedirs(dest_dir, exist_ok=True)\n",
        "    files = [f for f in os.listdir(src_dir) if f.endswith(\".mp3\")]\n",
        "    file_infos = [(f, src_dir, dest_dir) for f in files]\n",
        "\n",
        "    with ThreadPoolExecutor(max_workers=max_threads) as executor:\n",
        "        list(tqdm(executor.map(convert_single, file_infos), total=len(file_infos)))"
      ],
      "metadata": {
        "id": "AycdF4HQ0uPN"
      },
      "execution_count": null,
      "outputs": []
    },
    {
      "cell_type": "markdown",
      "source": [
        "Step 18: Set source paths for original MP3 files"
      ],
      "metadata": {
        "id": "Ak9Q2-gh-qqN"
      }
    },
    {
      "cell_type": "code",
      "source": [
        "dementia_src = \"/content/data/labeled-dementia/Labeled (Dementia)\"\n",
        "control_src = \"/content/data/labeled-control/Labeled (Control)\"\n",
        "unlabeled_src = \"/content/data/unlabeled/Unlabeled\""
      ],
      "metadata": {
        "id": "JKneBu5g0v8G"
      },
      "execution_count": null,
      "outputs": []
    },
    {
      "cell_type": "markdown",
      "source": [
        "Step 19: Convert MP3s to WAVs and save them"
      ],
      "metadata": {
        "id": "OLtdx7nIByYo"
      }
    },
    {
      "cell_type": "code",
      "source": [
        "convert_all_mp3s(dementia_src, \"/content/processed-wav/dementia\", max_threads=16)\n",
        "convert_all_mp3s(control_src, \"/content/processed-wav/control\", max_threads=16)\n",
        "convert_all_mp3s(unlabeled_src, \"/content/processed-wav/unlabeled\", max_threads=16)"
      ],
      "metadata": {
        "colab": {
          "base_uri": "https://localhost:8080/"
        },
        "id": "rmZ-pWV-0zeL",
        "outputId": "f90613ed-bdca-4539-83a5-24cb5033b3e7"
      },
      "execution_count": null,
      "outputs": [
        {
          "output_type": "stream",
          "name": "stderr",
          "text": [
            "100%|██████████| 100/100 [00:31<00:00,  3.13it/s]\n",
            "100%|██████████| 100/100 [00:28<00:00,  3.54it/s]\n",
            "100%|██████████| 500/500 [01:37<00:00,  5.12it/s]\n"
          ]
        }
      ]
    },
    {
      "cell_type": "markdown",
      "source": [
        "Step 20: Define function to extract Mel spectrogram from audio"
      ],
      "metadata": {
        "id": "P78k2JCkB1Pe"
      }
    },
    {
      "cell_type": "code",
      "source": [
        "def extract_mel_spec(file_path, sr=16000, n_mels=128, duration=5):\n",
        "    y, _ = librosa.load(file_path, sr=sr, duration=duration)\n",
        "    mel_spec = librosa.feature.melspectrogram(y=y, sr=sr, n_mels=n_mels)\n",
        "    mel_spec_db = librosa.power_to_db(mel_spec, ref=np.max)\n",
        "\n",
        "    return mel_spec_db"
      ],
      "metadata": {
        "id": "ov0Y3ZjN1JBR"
      },
      "execution_count": null,
      "outputs": []
    },
    {
      "cell_type": "markdown",
      "source": [
        "Step 21: Define function to save Mel spectrograms from WAV files"
      ],
      "metadata": {
        "id": "k7LFOLiEB5zZ"
      }
    },
    {
      "cell_type": "code",
      "source": [
        "def extract_all_mels(src_dir, dest_dir):\n",
        "    os.makedirs(dest_dir, exist_ok=True)\n",
        "\n",
        "    for file in tqdm(os.listdir(src_dir)):\n",
        "\n",
        "        if not file.endswith('.wav'):\n",
        "\n",
        "          continue\n",
        "        full_path = os.path.join(src_dir, file)\n",
        "        mel = extract_mel_spec(full_path)\n",
        "        out_path = os.path.join(dest_dir, file.replace('.wav', '.npy'))\n",
        "        np.save(out_path, mel)"
      ],
      "metadata": {
        "id": "syHAmOLx1Khj"
      },
      "execution_count": null,
      "outputs": []
    },
    {
      "cell_type": "markdown",
      "source": [
        "Step 22: Run Mel spectrogram extraction for all datasets"
      ],
      "metadata": {
        "id": "2bRXk2a3Ce-v"
      }
    },
    {
      "cell_type": "code",
      "source": [
        "extract_all_mels(\"/content/processed-wav/dementia\", \"/content/processed-specs/dementia\")\n",
        "extract_all_mels(\"/content/processed-wav/control\", \"/content/processed-specs/control\")\n",
        "extract_all_mels(\"/content/processed-wav/unlabeled\", \"/content/processed-specs/unlabeled\")"
      ],
      "metadata": {
        "colab": {
          "base_uri": "https://localhost:8080/"
        },
        "id": "3E2-N1F01MkS",
        "outputId": "dced25d0-6986-4a13-a047-0787fa410fd6"
      },
      "execution_count": null,
      "outputs": [
        {
          "output_type": "stream",
          "name": "stderr",
          "text": [
            "100%|██████████| 100/100 [00:20<00:00,  4.91it/s]\n",
            "100%|██████████| 100/100 [00:01<00:00, 60.50it/s]\n",
            "100%|██████████| 500/500 [00:08<00:00, 56.22it/s]\n"
          ]
        }
      ]
    },
    {
      "cell_type": "markdown",
      "source": [
        "Step 23: Split training data into training and validation sets"
      ],
      "metadata": {
        "id": "Eg0ejV9NCfxD"
      }
    },
    {
      "cell_type": "code",
      "source": [
        "X_train, X_val, y_train, y_val = train_test_split(X_train, y_train, test_size=0.2, random_state=42)"
      ],
      "metadata": {
        "id": "Wu5De7pM-Igz"
      },
      "execution_count": null,
      "outputs": []
    },
    {
      "cell_type": "markdown",
      "source": [
        "Step 24: Define the CNN model architecture"
      ],
      "metadata": {
        "id": "hRJbLWexCqPY"
      }
    },
    {
      "cell_type": "code",
      "source": [
        "def build_cnn(input_shape=(128, 157, 1)):\n",
        "    model = models.Sequential([\n",
        "        layers.Conv2D(64, (3, 3), activation='relu', input_shape=input_shape),\n",
        "        layers.MaxPooling2D((2, 2)),\n",
        "        layers.BatchNormalization(),\n",
        "        layers.Conv2D(128, (3, 3), activation='relu'),\n",
        "        layers.MaxPooling2D((2, 2)),\n",
        "        layers.BatchNormalization(),\n",
        "        layers.Conv2D(256, (3, 3), activation='relu'),\n",
        "        layers.MaxPooling2D((2, 2)),\n",
        "        layers.BatchNormalization(),\n",
        "        layers.Flatten(),\n",
        "        layers.Dense(128, activation='relu'),\n",
        "        layers.Dropout(0.3),\n",
        "        layers.Dense(1, activation='sigmoid')\n",
        "    ])"
      ],
      "metadata": {
        "id": "iPd4lU3t3Yv3"
      },
      "execution_count": null,
      "outputs": []
    },
    {
      "cell_type": "markdown",
      "source": [
        "Step 25: Compile and return the CNN model"
      ],
      "metadata": {
        "id": "Hr0sT5NqC1tc"
      }
    },
    {
      "cell_type": "code",
      "source": [
        " model.compile(optimizer=tf.keras.optimizers.Adam(learning_rate=0.0001),\n",
        "                  loss='binary_crossentropy',\n",
        "                  metrics=['accuracy'])\n",
        "    return model"
      ],
      "metadata": {
        "id": "DXj-lu0ICzK7"
      },
      "execution_count": null,
      "outputs": []
    },
    {
      "cell_type": "markdown",
      "source": [
        "Step 26: Set early stopping and learning rate scheduler"
      ],
      "metadata": {
        "id": "2HB9GvTPDCmZ"
      }
    },
    {
      "cell_type": "code",
      "source": [
        "early_stopping = EarlyStopping(monitor='val_loss', patience=5, restore_best_weights=True)\n",
        "lr_scheduler = ReduceLROnPlateau(monitor='val_loss', patience=2, factor=0.5, min_lr=0.00001)"
      ],
      "metadata": {
        "id": "mtTsl6Np-B3o"
      },
      "execution_count": null,
      "outputs": []
    },
    {
      "cell_type": "markdown",
      "source": [
        "Step 27: Build the CNN model"
      ],
      "metadata": {
        "id": "62cltNw2DJ2P"
      }
    },
    {
      "cell_type": "code",
      "source": [
        "model = build_cnn(input_shape=(128, 157, 1))"
      ],
      "metadata": {
        "id": "SDRmAH-u-B6c"
      },
      "execution_count": null,
      "outputs": []
    },
    {
      "cell_type": "markdown",
      "source": [
        "Step 28: Define function to load and preprocess spectrogram data"
      ],
      "metadata": {
        "id": "tNwFRrP-DRQJ"
      }
    },
    {
      "cell_type": "code",
      "source": [
        "def load_spectrogram_data(dementia_dir, control_dir):\n",
        "    X = []\n",
        "    y = []\n",
        "\n",
        "    for file in os.listdir(dementia_dir):\n",
        "\n",
        "        if file.endswith('.npy'):\n",
        "            spec = np.load(os.path.join(dementia_dir, file))\n",
        "\n",
        "            if spec.shape[1] < 157:\n",
        "                pad_width = 157 - spec.shape[1]\n",
        "                spec = np.pad(spec, ((0, 0), (0, pad_width)), mode='constant')\n",
        "\n",
        "            X.append(spec)\n",
        "            y.append(1)\n",
        "\n",
        "    for file in os.listdir(control_dir):\n",
        "\n",
        "        if file.endswith('.npy'):\n",
        "            spec = np.load(os.path.join(control_dir, file))\n",
        "\n",
        "            if spec.shape[1] < 157:\n",
        "                pad_width = 157 - spec.shape[1]\n",
        "                spec = np.pad(spec, ((0, 0), (0, pad_width)), mode='constant')\n",
        "\n",
        "            X.append(spec)\n",
        "            y.append(0)\n",
        "\n",
        "    X = np.array(X)\n",
        "    X = np.expand_dims(X, -1)\n",
        "    y = np.array(y)\n",
        "\n",
        "    return train_test_split(X, y, test_size=0.2, random_state=42, stratify=y)"
      ],
      "metadata": {
        "id": "hDyszdQA3wrt"
      },
      "execution_count": null,
      "outputs": []
    },
    {
      "cell_type": "markdown",
      "source": [
        "Step 29: Set paths for processed spectrogram data"
      ],
      "metadata": {
        "id": "wdoGvzv6Dl0H"
      }
    },
    {
      "cell_type": "code",
      "source": [
        "dementia_path = \"/content/processed-specs/dementia\"\n",
        "control_path = \"/content/processed-specs/control\""
      ],
      "metadata": {
        "id": "JQO7iqfn36P9"
      },
      "execution_count": null,
      "outputs": []
    },
    {
      "cell_type": "markdown",
      "source": [
        "Step 30: Load training and testing data from spectrograms"
      ],
      "metadata": {
        "id": "6Tea1b0wDm6b"
      }
    },
    {
      "cell_type": "code",
      "source": [
        "X_train, X_test, y_train, y_test = load_spectrogram_data(dementia_path, control_path)"
      ],
      "metadata": {
        "id": "oa8RqhR2363w"
      },
      "execution_count": null,
      "outputs": []
    },
    {
      "cell_type": "markdown",
      "source": [
        "Step 31: Initialize the CNN model"
      ],
      "metadata": {
        "id": "WuXB_BX2DscR"
      }
    },
    {
      "cell_type": "code",
      "source": [
        "model = build_cnn()"
      ],
      "metadata": {
        "colab": {
          "base_uri": "https://localhost:8080/"
        },
        "id": "fEyKZg0W4EO8",
        "outputId": "7e00af18-585a-4275-f7fd-629af9ba81af"
      },
      "execution_count": null,
      "outputs": [
        {
          "output_type": "stream",
          "name": "stderr",
          "text": [
            "/usr/local/lib/python3.11/dist-packages/keras/src/layers/convolutional/base_conv.py:107: UserWarning: Do not pass an `input_shape`/`input_dim` argument to a layer. When using Sequential models, prefer using an `Input(shape)` object as the first layer in the model instead.\n",
            "  super().__init__(activity_regularizer=activity_regularizer, **kwargs)\n"
          ]
        }
      ]
    },
    {
      "cell_type": "markdown",
      "source": [
        "Step 32: Train the CNN model"
      ],
      "metadata": {
        "id": "4fEneDYODyBq"
      }
    },
    {
      "cell_type": "code",
      "source": [
        "history = model.fit(X_train, y_train, epochs=50, batch_size=32, validation_data=(X_val, y_val), callbacks=[early_stopping, lr_scheduler])"
      ],
      "metadata": {
        "colab": {
          "base_uri": "https://localhost:8080/"
        },
        "id": "M68ZSu6u4FWK",
        "outputId": "37ab527f-4aef-47b8-c73b-7b05de82275d"
      },
      "execution_count": null,
      "outputs": [
        {
          "output_type": "stream",
          "name": "stdout",
          "text": [
            "Epoch 1/50\n",
            "\u001b[1m5/5\u001b[0m \u001b[32m━━━━━━━━━━━━━━━━━━━━\u001b[0m\u001b[37m\u001b[0m \u001b[1m23s\u001b[0m 4s/step - accuracy: 0.4628 - loss: 1.2781 - val_accuracy: 0.5385 - val_loss: 1.1476 - learning_rate: 1.0000e-04\n",
            "Epoch 2/50\n",
            "\u001b[1m5/5\u001b[0m \u001b[32m━━━━━━━━━━━━━━━━━━━━\u001b[0m\u001b[37m\u001b[0m \u001b[1m21s\u001b[0m 4s/step - accuracy: 0.7864 - loss: 0.4861 - val_accuracy: 0.4615 - val_loss: 5.7735 - learning_rate: 1.0000e-04\n",
            "Epoch 3/50\n",
            "\u001b[1m5/5\u001b[0m \u001b[32m━━━━━━━━━━━━━━━━━━━━\u001b[0m\u001b[37m\u001b[0m \u001b[1m19s\u001b[0m 4s/step - accuracy: 0.9455 - loss: 0.1203 - val_accuracy: 0.4615 - val_loss: 3.4455 - learning_rate: 1.0000e-04\n",
            "Epoch 4/50\n",
            "\u001b[1m5/5\u001b[0m \u001b[32m━━━━━━━━━━━━━━━━━━━━\u001b[0m\u001b[37m\u001b[0m \u001b[1m22s\u001b[0m 4s/step - accuracy: 0.9502 - loss: 0.1124 - val_accuracy: 0.4615 - val_loss: 1.4988 - learning_rate: 5.0000e-05\n",
            "Epoch 5/50\n",
            "\u001b[1m5/5\u001b[0m \u001b[32m━━━━━━━━━━━━━━━━━━━━\u001b[0m\u001b[37m\u001b[0m \u001b[1m20s\u001b[0m 4s/step - accuracy: 0.9949 - loss: 0.0422 - val_accuracy: 0.5769 - val_loss: 0.7437 - learning_rate: 5.0000e-05\n",
            "Epoch 6/50\n",
            "\u001b[1m5/5\u001b[0m \u001b[32m━━━━━━━━━━━━━━━━━━━━\u001b[0m\u001b[37m\u001b[0m \u001b[1m20s\u001b[0m 4s/step - accuracy: 0.9932 - loss: 0.0241 - val_accuracy: 0.6538 - val_loss: 0.5940 - learning_rate: 5.0000e-05\n",
            "Epoch 7/50\n",
            "\u001b[1m5/5\u001b[0m \u001b[32m━━━━━━━━━━━━━━━━━━━━\u001b[0m\u001b[37m\u001b[0m \u001b[1m20s\u001b[0m 4s/step - accuracy: 0.9949 - loss: 0.0212 - val_accuracy: 0.6154 - val_loss: 0.7143 - learning_rate: 5.0000e-05\n",
            "Epoch 8/50\n",
            "\u001b[1m5/5\u001b[0m \u001b[32m━━━━━━━━━━━━━━━━━━━━\u001b[0m\u001b[37m\u001b[0m \u001b[1m20s\u001b[0m 4s/step - accuracy: 1.0000 - loss: 0.0148 - val_accuracy: 0.5769 - val_loss: 0.7877 - learning_rate: 5.0000e-05\n",
            "Epoch 9/50\n",
            "\u001b[1m5/5\u001b[0m \u001b[32m━━━━━━━━━━━━━━━━━━━━\u001b[0m\u001b[37m\u001b[0m \u001b[1m22s\u001b[0m 4s/step - accuracy: 1.0000 - loss: 0.0148 - val_accuracy: 0.6154 - val_loss: 0.6500 - learning_rate: 2.5000e-05\n",
            "Epoch 10/50\n",
            "\u001b[1m5/5\u001b[0m \u001b[32m━━━━━━━━━━━━━━━━━━━━\u001b[0m\u001b[37m\u001b[0m \u001b[1m19s\u001b[0m 4s/step - accuracy: 0.9979 - loss: 0.0105 - val_accuracy: 0.6923 - val_loss: 0.5436 - learning_rate: 2.5000e-05\n",
            "Epoch 11/50\n",
            "\u001b[1m5/5\u001b[0m \u001b[32m━━━━━━━━━━━━━━━━━━━━\u001b[0m\u001b[37m\u001b[0m \u001b[1m21s\u001b[0m 4s/step - accuracy: 1.0000 - loss: 0.0077 - val_accuracy: 0.7308 - val_loss: 0.4756 - learning_rate: 2.5000e-05\n",
            "Epoch 12/50\n",
            "\u001b[1m5/5\u001b[0m \u001b[32m━━━━━━━━━━━━━━━━━━━━\u001b[0m\u001b[37m\u001b[0m \u001b[1m20s\u001b[0m 4s/step - accuracy: 0.9979 - loss: 0.0076 - val_accuracy: 0.8462 - val_loss: 0.4391 - learning_rate: 2.5000e-05\n",
            "Epoch 13/50\n",
            "\u001b[1m5/5\u001b[0m \u001b[32m━━━━━━━━━━━━━━━━━━━━\u001b[0m\u001b[37m\u001b[0m \u001b[1m21s\u001b[0m 4s/step - accuracy: 1.0000 - loss: 0.0057 - val_accuracy: 0.8462 - val_loss: 0.4323 - learning_rate: 2.5000e-05\n",
            "Epoch 14/50\n",
            "\u001b[1m5/5\u001b[0m \u001b[32m━━━━━━━━━━━━━━━━━━━━\u001b[0m\u001b[37m\u001b[0m \u001b[1m18s\u001b[0m 4s/step - accuracy: 1.0000 - loss: 0.0051 - val_accuracy: 0.8077 - val_loss: 0.4437 - learning_rate: 2.5000e-05\n",
            "Epoch 15/50\n",
            "\u001b[1m5/5\u001b[0m \u001b[32m━━━━━━━━━━━━━━━━━━━━\u001b[0m\u001b[37m\u001b[0m \u001b[1m20s\u001b[0m 4s/step - accuracy: 1.0000 - loss: 0.0064 - val_accuracy: 0.7692 - val_loss: 0.4693 - learning_rate: 2.5000e-05\n",
            "Epoch 16/50\n",
            "\u001b[1m5/5\u001b[0m \u001b[32m━━━━━━━━━━━━━━━━━━━━\u001b[0m\u001b[37m\u001b[0m \u001b[1m22s\u001b[0m 4s/step - accuracy: 1.0000 - loss: 0.0066 - val_accuracy: 0.7308 - val_loss: 0.4956 - learning_rate: 1.2500e-05\n",
            "Epoch 17/50\n",
            "\u001b[1m5/5\u001b[0m \u001b[32m━━━━━━━━━━━━━━━━━━━━\u001b[0m\u001b[37m\u001b[0m \u001b[1m25s\u001b[0m 5s/step - accuracy: 1.0000 - loss: 0.0136 - val_accuracy: 0.6923 - val_loss: 0.5243 - learning_rate: 1.2500e-05\n",
            "Epoch 18/50\n",
            "\u001b[1m5/5\u001b[0m \u001b[32m━━━━━━━━━━━━━━━━━━━━\u001b[0m\u001b[37m\u001b[0m \u001b[1m36s\u001b[0m 4s/step - accuracy: 1.0000 - loss: 0.0044 - val_accuracy: 0.6923 - val_loss: 0.5485 - learning_rate: 1.0000e-05\n"
          ]
        }
      ]
    },
    {
      "cell_type": "markdown",
      "source": [
        "Step 33: Evaluate model on validation set"
      ],
      "metadata": {
        "id": "XSKXtbolD3er"
      }
    },
    {
      "cell_type": "code",
      "source": [
        "val_loss, val_accuracy = model.evaluate(X_val, y_val)"
      ],
      "metadata": {
        "colab": {
          "base_uri": "https://localhost:8080/"
        },
        "id": "LSje_VJS_vjD",
        "outputId": "c12333d4-f5e7-49ca-9b52-772245d59ae9"
      },
      "execution_count": null,
      "outputs": [
        {
          "output_type": "stream",
          "name": "stdout",
          "text": [
            "\u001b[1m1/1\u001b[0m \u001b[32m━━━━━━━━━━━━━━━━━━━━\u001b[0m\u001b[37m\u001b[0m \u001b[1m1s\u001b[0m 704ms/step - accuracy: 0.8462 - loss: 0.4323\n"
          ]
        }
      ]
    },
    {
      "cell_type": "markdown",
      "source": [
        "Step 34: Print validation loss and accuracy"
      ],
      "metadata": {
        "id": "mADxI5wqD-Rk"
      }
    },
    {
      "cell_type": "code",
      "source": [
        "print(f\"Validation Loss: {val_loss:.4f}\")\n",
        "print(f\"Validation Accuracy: {val_accuracy:.4f}\")"
      ],
      "metadata": {
        "colab": {
          "base_uri": "https://localhost:8080/"
        },
        "id": "FUEMmA4E_xqY",
        "outputId": "dcaaa1aa-4c3e-4c56-9f85-7ff6f4b0e235"
      },
      "execution_count": null,
      "outputs": [
        {
          "output_type": "stream",
          "name": "stdout",
          "text": [
            "Validation Loss: 0.4323\n",
            "Validation Accuracy: 0.8462\n"
          ]
        }
      ]
    },
    {
      "cell_type": "markdown",
      "source": [
        "Step 35: Print final training accuracy"
      ],
      "metadata": {
        "id": "dGKIhFYvED1t"
      }
    },
    {
      "cell_type": "code",
      "source": [
        "final_train_acc = history.history['accuracy'][-1]\n",
        "print(f\"Final Training Accuracy: {final_train_acc:.4f}\")"
      ],
      "metadata": {
        "colab": {
          "base_uri": "https://localhost:8080/"
        },
        "id": "aU6fwc9s4vOz",
        "outputId": "ccc0c2dc-761e-493a-bf3a-26ac5efe7b44"
      },
      "execution_count": null,
      "outputs": [
        {
          "output_type": "stream",
          "name": "stdout",
          "text": [
            "Final Training Accuracy: 0.9688\n"
          ]
        }
      ]
    },
    {
      "cell_type": "markdown",
      "source": [
        "Step 36: Print average training accuracy"
      ],
      "metadata": {
        "id": "_FDBtE-pQbGB"
      }
    },
    {
      "cell_type": "code",
      "source": [
        "avg_train_acc = sum(history.history['accuracy']) / len(history.history['accuracy'])\n",
        "print(f\"Average Training Accuracy: {avg_train_acc:.4f}\")"
      ],
      "metadata": {
        "colab": {
          "base_uri": "https://localhost:8080/"
        },
        "id": "ABenKBDx7BYq",
        "outputId": "40474dae-91fb-4a21-d367-b95f7e161c37"
      },
      "execution_count": null,
      "outputs": [
        {
          "output_type": "stream",
          "name": "stdout",
          "text": [
            "Average Training Accuracy: 0.9514\n"
          ]
        }
      ]
    },
    {
      "cell_type": "markdown",
      "source": [
        "Step 37: Set path for unlabeled spectrogram data"
      ],
      "metadata": {
        "id": "CCBusTAEQdGd"
      }
    },
    {
      "cell_type": "code",
      "source": [
        "unlabeled_data_dir = '/content/processed-specs/unlabeled'"
      ],
      "metadata": {
        "id": "EcdI_z0WCkXE"
      },
      "execution_count": null,
      "outputs": []
    },
    {
      "cell_type": "markdown",
      "source": [
        "Step 38: Load unlabeled spectrograms and make predictions"
      ],
      "metadata": {
        "id": "wsuhZeijWXyD"
      }
    },
    {
      "cell_type": "code",
      "source": [
        "if os.path.exists(unlabeled_data_dir):\n",
        "    files = [f for f in os.listdir(unlabeled_data_dir) if f.endswith('.npy')]\n",
        "    print(f\"Found {len(files)} .npy files in the directory.\")\n",
        "\n",
        "    X_unlabeled = []\n",
        "\n",
        "    for file in files:\n",
        "        file_path = os.path.join(unlabeled_data_dir, file)\n",
        "        data = np.load(file_path)\n",
        "\n",
        "        if data.shape == (128, 157):\n",
        "            X_unlabeled.append(data[..., np.newaxis])\n",
        "\n",
        "    X_unlabeled = np.array(X_unlabeled)\n",
        "    print(f\"Shape of X_unlabeled: {X_unlabeled.shape}\")\n",
        "\n",
        "    if X_unlabeled.shape[0] > 0:\n",
        "        predictions = model.predict(X_unlabeled)\n",
        "        print(f\"Predictions: {predictions}\")\n",
        "\n",
        "    else:\n",
        "        print(\"No valid data found to make predictions.\")\n",
        "\n",
        "else:\n",
        "    print(\"Directory not found. Please check the path.\")"
      ],
      "metadata": {
        "colab": {
          "base_uri": "https://localhost:8080/"
        },
        "id": "WKKQn_UcCkZZ",
        "outputId": "16c81f1e-d3d4-4548-e7b8-fe93df728900"
      },
      "execution_count": null,
      "outputs": [
        {
          "output_type": "stream",
          "name": "stdout",
          "text": [
            "Found 500 .npy files in the directory.\n",
            "Shape of X_unlabeled: (302, 128, 157, 1)\n",
            "\u001b[1m10/10\u001b[0m \u001b[32m━━━━━━━━━━━━━━━━━━━━\u001b[0m\u001b[37m\u001b[0m \u001b[1m10s\u001b[0m 991ms/step\n",
            "Predictions: [[0.9563874 ]\n",
            " [0.86597574]\n",
            " [0.9367032 ]\n",
            " [0.9741651 ]\n",
            " [0.6763028 ]\n",
            " [0.50558835]\n",
            " [0.71402556]\n",
            " [0.8987394 ]\n",
            " [0.9527493 ]\n",
            " [0.95920646]\n",
            " [0.5301215 ]\n",
            " [0.94786584]\n",
            " [0.685562  ]\n",
            " [0.859101  ]\n",
            " [0.5552794 ]\n",
            " [0.49050942]\n",
            " [0.76988935]\n",
            " [0.71375525]\n",
            " [0.94192034]\n",
            " [0.925238  ]\n",
            " [0.7464245 ]\n",
            " [0.699568  ]\n",
            " [0.97717935]\n",
            " [0.9151375 ]\n",
            " [0.9735918 ]\n",
            " [0.95680857]\n",
            " [0.8213945 ]\n",
            " [0.44634128]\n",
            " [0.9325564 ]\n",
            " [0.88120174]\n",
            " [0.7618474 ]\n",
            " [0.8424057 ]\n",
            " [0.7323867 ]\n",
            " [0.56398934]\n",
            " [0.8872865 ]\n",
            " [0.75637704]\n",
            " [0.21315183]\n",
            " [0.44900525]\n",
            " [0.8918565 ]\n",
            " [0.86853385]\n",
            " [0.8283242 ]\n",
            " [0.7884174 ]\n",
            " [0.9691951 ]\n",
            " [0.7346874 ]\n",
            " [0.25822714]\n",
            " [0.6574965 ]\n",
            " [0.9462642 ]\n",
            " [0.6843257 ]\n",
            " [0.91804993]\n",
            " [0.98788965]\n",
            " [0.77073634]\n",
            " [0.8002476 ]\n",
            " [0.66727704]\n",
            " [0.7173035 ]\n",
            " [0.67610526]\n",
            " [0.9071235 ]\n",
            " [0.72883075]\n",
            " [0.79390746]\n",
            " [0.5283479 ]\n",
            " [0.28744063]\n",
            " [0.39405653]\n",
            " [0.41124615]\n",
            " [0.96107274]\n",
            " [0.66701686]\n",
            " [0.9785956 ]\n",
            " [0.51215535]\n",
            " [0.5054025 ]\n",
            " [0.87693125]\n",
            " [0.7860532 ]\n",
            " [0.9910846 ]\n",
            " [0.9202771 ]\n",
            " [0.93193406]\n",
            " [0.93145394]\n",
            " [0.78110874]\n",
            " [0.7921968 ]\n",
            " [0.25754234]\n",
            " [0.96788484]\n",
            " [0.880208  ]\n",
            " [0.71587646]\n",
            " [0.3710593 ]\n",
            " [0.7826961 ]\n",
            " [0.6086815 ]\n",
            " [0.98365206]\n",
            " [0.85087544]\n",
            " [0.75797355]\n",
            " [0.7670606 ]\n",
            " [0.8322443 ]\n",
            " [0.9290124 ]\n",
            " [0.83588403]\n",
            " [0.9626808 ]\n",
            " [0.7944091 ]\n",
            " [0.9119344 ]\n",
            " [0.6322619 ]\n",
            " [0.30119386]\n",
            " [0.58698624]\n",
            " [0.95563215]\n",
            " [0.91393834]\n",
            " [0.8034253 ]\n",
            " [0.6858754 ]\n",
            " [0.9886828 ]\n",
            " [0.2598355 ]\n",
            " [0.89405155]\n",
            " [0.86024046]\n",
            " [0.73529303]\n",
            " [0.8105801 ]\n",
            " [0.99549663]\n",
            " [0.3823054 ]\n",
            " [0.8289517 ]\n",
            " [0.13559559]\n",
            " [0.98296547]\n",
            " [0.6609534 ]\n",
            " [0.4655569 ]\n",
            " [0.6826199 ]\n",
            " [0.19830583]\n",
            " [0.96895456]\n",
            " [0.6213077 ]\n",
            " [0.71497667]\n",
            " [0.7946911 ]\n",
            " [0.9235517 ]\n",
            " [0.79393196]\n",
            " [0.9792937 ]\n",
            " [0.71148634]\n",
            " [0.8348237 ]\n",
            " [0.23616485]\n",
            " [0.8652297 ]\n",
            " [0.8943867 ]\n",
            " [0.970905  ]\n",
            " [0.9559692 ]\n",
            " [0.9483129 ]\n",
            " [0.90157944]\n",
            " [0.7077576 ]\n",
            " [0.9150604 ]\n",
            " [0.896494  ]\n",
            " [0.9229828 ]\n",
            " [0.39485952]\n",
            " [0.33803666]\n",
            " [0.79002815]\n",
            " [0.9054768 ]\n",
            " [0.9869591 ]\n",
            " [0.8135222 ]\n",
            " [0.98237365]\n",
            " [0.8340589 ]\n",
            " [0.57548845]\n",
            " [0.60060155]\n",
            " [0.9008156 ]\n",
            " [0.92311686]\n",
            " [0.80048436]\n",
            " [0.90151906]\n",
            " [0.92980814]\n",
            " [0.79447657]\n",
            " [0.93620396]\n",
            " [0.7591998 ]\n",
            " [0.78298676]\n",
            " [0.89623356]\n",
            " [0.8915567 ]\n",
            " [0.7354775 ]\n",
            " [0.8412957 ]\n",
            " [0.30022138]\n",
            " [0.89657485]\n",
            " [0.3562752 ]\n",
            " [0.19841558]\n",
            " [0.9688963 ]\n",
            " [0.27305937]\n",
            " [0.9506938 ]\n",
            " [0.6722897 ]\n",
            " [0.9561757 ]\n",
            " [0.4422955 ]\n",
            " [0.11005448]\n",
            " [0.4878378 ]\n",
            " [0.9274919 ]\n",
            " [0.71409804]\n",
            " [0.09682825]\n",
            " [0.52903265]\n",
            " [0.5793397 ]\n",
            " [0.945608  ]\n",
            " [0.37125343]\n",
            " [0.9328787 ]\n",
            " [0.8459535 ]\n",
            " [0.7696612 ]\n",
            " [0.29564816]\n",
            " [0.74294317]\n",
            " [0.2895283 ]\n",
            " [0.9317107 ]\n",
            " [0.95977634]\n",
            " [0.51528305]\n",
            " [0.8248776 ]\n",
            " [0.923769  ]\n",
            " [0.9512558 ]\n",
            " [0.7556162 ]\n",
            " [0.10295945]\n",
            " [0.9867749 ]\n",
            " [0.93268734]\n",
            " [0.7821366 ]\n",
            " [0.86084294]\n",
            " [0.0418512 ]\n",
            " [0.9842871 ]\n",
            " [0.8576031 ]\n",
            " [0.9726021 ]\n",
            " [0.0847745 ]\n",
            " [0.5893569 ]\n",
            " [0.9610423 ]\n",
            " [0.8517346 ]\n",
            " [0.7265209 ]\n",
            " [0.4830744 ]\n",
            " [0.7598761 ]\n",
            " [0.78425175]\n",
            " [0.8938396 ]\n",
            " [0.9542865 ]\n",
            " [0.9684724 ]\n",
            " [0.99004924]\n",
            " [0.742919  ]\n",
            " [0.86299336]\n",
            " [0.48351526]\n",
            " [0.9576326 ]\n",
            " [0.9021234 ]\n",
            " [0.69501543]\n",
            " [0.77780217]\n",
            " [0.32564774]\n",
            " [0.454829  ]\n",
            " [0.8212007 ]\n",
            " [0.8890943 ]\n",
            " [0.93874353]\n",
            " [0.74579805]\n",
            " [0.92708236]\n",
            " [0.29694444]\n",
            " [0.7304215 ]\n",
            " [0.96544814]\n",
            " [0.96237737]\n",
            " [0.10065279]\n",
            " [0.37665904]\n",
            " [0.96759945]\n",
            " [0.44783273]\n",
            " [0.66992384]\n",
            " [0.46795174]\n",
            " [0.9416307 ]\n",
            " [0.9490555 ]\n",
            " [0.8592999 ]\n",
            " [0.9504188 ]\n",
            " [0.46865907]\n",
            " [0.8723903 ]\n",
            " [0.6825051 ]\n",
            " [0.7235331 ]\n",
            " [0.17018679]\n",
            " [0.7668936 ]\n",
            " [0.08092148]\n",
            " [0.9732854 ]\n",
            " [0.98939186]\n",
            " [0.34128284]\n",
            " [0.22529824]\n",
            " [0.80478436]\n",
            " [0.4765259 ]\n",
            " [0.95276046]\n",
            " [0.82381153]\n",
            " [0.5288792 ]\n",
            " [0.8952437 ]\n",
            " [0.81765497]\n",
            " [0.89644384]\n",
            " [0.7820029 ]\n",
            " [0.92114717]\n",
            " [0.11556017]\n",
            " [0.9025592 ]\n",
            " [0.44404992]\n",
            " [0.9200995 ]\n",
            " [0.9894372 ]\n",
            " [0.81216407]\n",
            " [0.3681478 ]\n",
            " [0.82377046]\n",
            " [0.85948676]\n",
            " [0.45693383]\n",
            " [0.7260455 ]\n",
            " [0.48274237]\n",
            " [0.7292096 ]\n",
            " [0.65777016]\n",
            " [0.68674654]\n",
            " [0.6070694 ]\n",
            " [0.52852017]\n",
            " [0.34158698]\n",
            " [0.9904936 ]\n",
            " [0.5553133 ]\n",
            " [0.7415857 ]\n",
            " [0.84466517]\n",
            " [0.6470213 ]\n",
            " [0.4622884 ]\n",
            " [0.9584361 ]\n",
            " [0.8049625 ]\n",
            " [0.8615348 ]\n",
            " [0.54829377]\n",
            " [0.9309748 ]\n",
            " [0.31904167]\n",
            " [0.9003662 ]\n",
            " [0.50857496]\n",
            " [0.96474344]\n",
            " [0.92832446]\n",
            " [0.50619924]\n",
            " [0.3974116 ]\n",
            " [0.25949964]\n",
            " [0.89795727]\n",
            " [0.86581874]\n",
            " [0.7385807 ]\n",
            " [0.9452042 ]\n",
            " [0.931837  ]\n",
            " [0.90611243]]\n"
          ]
        }
      ]
    },
    {
      "cell_type": "markdown",
      "source": [
        "Step 39: Convert model predictions to binary labels"
      ],
      "metadata": {
        "id": "xvfPWwrVWxCt"
      }
    },
    {
      "cell_type": "code",
      "source": [
        "binary_preds = (predictions > 0.5).astype(int)"
      ],
      "metadata": {
        "id": "8cEMm0JaCkbe"
      },
      "execution_count": null,
      "outputs": []
    },
    {
      "cell_type": "markdown",
      "source": [
        "Step 40: Count predicted dementia and control samples"
      ],
      "metadata": {
        "id": "8g5nq8NWbLWs"
      }
    },
    {
      "cell_type": "code",
      "source": [
        "dementia_count = np.sum(binary_preds)\n",
        "control_count = len(binary_preds) - dementia_count"
      ],
      "metadata": {
        "id": "sqynVihwCkeI"
      },
      "execution_count": null,
      "outputs": []
    },
    {
      "cell_type": "markdown",
      "source": [
        "Step 41: Print prediction summary for unlabeled data"
      ],
      "metadata": {
        "id": "3GadmCBybZGg"
      }
    },
    {
      "cell_type": "code",
      "source": [
        "print(f\"Dementia: {dementia_count}, Control: {control_count}\")"
      ],
      "metadata": {
        "colab": {
          "base_uri": "https://localhost:8080/"
        },
        "id": "n69MH5Z2CkgO",
        "outputId": "a6ca51db-25d0-4d13-9929-28a8e78378f5"
      },
      "execution_count": null,
      "outputs": [
        {
          "output_type": "stream",
          "name": "stdout",
          "text": [
            "Dementia: 244, Control: 58\n"
          ]
        }
      ]
    },
    {
      "cell_type": "markdown",
      "source": [
        "Step 42: Calculate pseudo-labeling confidence accuracy"
      ],
      "metadata": {
        "id": "MF75i8CzcyP6"
      }
    },
    {
      "cell_type": "code",
      "source": [
        "confident_preds = (predictions > 0.6) | (predictions < 0.4)\n",
        "pseudo_accuracy = np.sum(confident_preds) / len(predictions)"
      ],
      "metadata": {
        "id": "t62QaQPoDUMi"
      },
      "execution_count": null,
      "outputs": []
    },
    {
      "cell_type": "markdown",
      "source": [
        "Step 43: Print pseudo accuracy percentage"
      ],
      "metadata": {
        "id": "GtdN5ErTpZqw"
      }
    },
    {
      "cell_type": "code",
      "source": [
        "print(f\"Pseudo Accuracy (confident predictions): {pseudo_accuracy * 100:.2f}%\")"
      ],
      "metadata": {
        "colab": {
          "base_uri": "https://localhost:8080/"
        },
        "id": "qvzCarZNDUPS",
        "outputId": "bc3620c9-bb40-4ced-9bb1-66e90292ce76"
      },
      "execution_count": null,
      "outputs": [
        {
          "output_type": "stream",
          "name": "stdout",
          "text": [
            "Pseudo Accuracy (confident predictions): 87.75%\n"
          ]
        }
      ]
    }
  ],
  "metadata": {
    "colab": {
      "provenance": []
    },
    "kernelspec": {
      "display_name": "Python 3",
      "name": "python3"
    },
    "language_info": {
      "name": "python"
    }
  },
  "nbformat": 4,
  "nbformat_minor": 0
}