{
  "cells": [
    {
      "cell_type": "code",
      "source": [
        "import numpy as np"
      ],
      "metadata": {
        "id": "sMmZpaFlDUVk"
      },
      "execution_count": null,
      "outputs": []
    },
    {
      "cell_type": "code",
      "source": [
        "unlabeled_folder = '/content/processed-specs/unlabeled'\n",
        "npy_files = [f for f in os.listdir(unlabeled_folder) if f.endswith('.npy')]"
      ],
      "metadata": {
        "id": "c5dJ7NgvG4Qc"
      },
      "execution_count": null,
      "outputs": []
    },
    {
      "cell_type": "code",
      "source": [
        "valid_data = []"
      ],
      "metadata": {
        "id": "PULAta2FG4Sw"
      },
      "execution_count": null,
      "outputs": []
    },
    {
      "cell_type": "code",
      "source": [
        "invalid_files = 0\n",
        "valid_files = 0"
      ],
      "metadata": {
        "id": "X87-ZnJ8G4VG"
      },
      "execution_count": null,
      "outputs": []
    },
    {
      "cell_type": "code",
      "source": [
        "for file in npy_files:\n",
        "\n",
        "    try:\n",
        "        data = np.load(os.path.join(unlabeled_folder, file))\n",
        "\n",
        "        if data.shape == (128, 157):\n",
        "            valid_data.append(data)\n",
        "            valid_files += 1\n",
        "\n",
        "        else:\n",
        "            invalid_files += 1\n",
        "\n",
        "    except Exception as e:\n",
        "        print(f\"Error loading {file}: {e}\")\n",
        "        invalid_files += 1"
      ],
      "metadata": {
        "id": "nQ3fZEaqG4XT"
      },
      "execution_count": null,
      "outputs": []
    },
    {
      "cell_type": "code",
      "source": [
        "X_unlabeled = np.array(valid_data)\n",
        "print(f\"Number of valid files: {valid_files}\")\n",
        "print(f\"Number of invalid files: {invalid_files}\")\n",
        "print(f\"Total files: {len(npy_files)}\")\n",
        "print(f\"Shape of X_unlabeled: {X_unlabeled.shape}\")"
      ],
      "metadata": {
        "colab": {
          "base_uri": "https://localhost:8080/"
        },
        "id": "E691DgIeG4bK",
        "outputId": "36e7b723-9a28-405c-a1a0-b105cb95b947"
      },
      "execution_count": null,
      "outputs": [
        {
          "output_type": "stream",
          "name": "stdout",
          "text": [
            "Number of valid files: 302\n",
            "Number of invalid files: 198\n",
            "Total files: 500\n",
            "Shape of X_unlabeled: (302, 128, 157)\n"
          ]
        }
      ]
    },
    {
      "cell_type": "code",
      "source": [
        "confident = (predictions > 0.9) | (predictions < 0.1)\n",
        "print(f\"High-confidence predictions: {confident.sum()} / {len(predictions)}\")"
      ],
      "metadata": {
        "colab": {
          "base_uri": "https://localhost:8080/"
        },
        "id": "0q1i8-4QD28d",
        "outputId": "90edeade-56a7-479d-bbce-d907baced7c4"
      },
      "execution_count": null,
      "outputs": [
        {
          "output_type": "stream",
          "name": "stdout",
          "text": [
            "High-confidence predictions: 99 / 302\n"
          ]
        }
      ]
    }
  ],
  "metadata": {
    "colab": {
      "provenance": []
    },
    "kernelspec": {
      "display_name": "Python 3",
      "name": "python3"
    },
    "language_info": {
      "name": "python"
    }
  },
  "nbformat": 4,
  "nbformat_minor": 0
}